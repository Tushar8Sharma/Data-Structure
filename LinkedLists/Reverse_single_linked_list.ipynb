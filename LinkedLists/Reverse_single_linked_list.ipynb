{
  "nbformat": 4,
  "nbformat_minor": 0,
  "metadata": {
    "colab": {
      "name": "Reverse single linked list",
      "provenance": [],
      "collapsed_sections": []
    },
    "kernelspec": {
      "name": "python3",
      "display_name": "Python 3"
    }
  },
  "cells": [
    {
      "cell_type": "code",
      "metadata": {
        "id": "vrdiBcOyHIfI",
        "colab_type": "code",
        "colab": {}
      },
      "source": [
        "class nodes:\n",
        "  def __init__(self,data):\n",
        "    self.data = data\n",
        "    self.next = None\n",
        "  \n",
        "class linkedList:\n",
        "  def __init__(self):\n",
        "    self.head = None\n",
        "  \n",
        "  def insert(self,data):\n",
        "    nodeInstance = nodes(data)\n",
        "    if self.head==None:\n",
        "      self.head = nodeInstance\n",
        "    else:\n",
        "      p = self.head\n",
        "      while p.next:\n",
        "        p = p.next\n",
        "      p.next=nodeInstance\n",
        "  \n",
        "  def display(self):\n",
        "    p = self.head\n",
        "    while(p!=None):\n",
        "      print(p.data)\n",
        "      p = p.next\n",
        "    \n",
        "  def reverse(self):\n",
        "    p = self.head\n",
        "    # p = q.next\n",
        "    prev = None\n",
        "    while p != None:\n",
        "      temp   = p.next\n",
        "      p.next = prev\n",
        "      prev   = p\n",
        "      p = temp \n",
        "    self.head = prev"
      ],
      "execution_count": 0,
      "outputs": []
    },
    {
      "cell_type": "code",
      "metadata": {
        "id": "eGf1GEEFMCyS",
        "colab_type": "code",
        "colab": {}
      },
      "source": [
        "\n",
        "li = linkedList()"
      ],
      "execution_count": 0,
      "outputs": []
    },
    {
      "cell_type": "code",
      "metadata": {
        "id": "yCQFnCwaMF7a",
        "colab_type": "code",
        "colab": {}
      },
      "source": [
        "for i in range(5):\n",
        "  li.insert(i)"
      ],
      "execution_count": 0,
      "outputs": []
    },
    {
      "cell_type": "code",
      "metadata": {
        "id": "hO1ecdjzML9r",
        "colab_type": "code",
        "colab": {
          "base_uri": "https://localhost:8080/",
          "height": 105
        },
        "outputId": "73f5498e-c26e-4438-a0dc-baf72bfd85d6"
      },
      "source": [
        "li.display()"
      ],
      "execution_count": 25,
      "outputs": [
        {
          "output_type": "stream",
          "text": [
            "0\n",
            "1\n",
            "2\n",
            "3\n",
            "4\n"
          ],
          "name": "stdout"
        }
      ]
    },
    {
      "cell_type": "code",
      "metadata": {
        "id": "qpaAUqb0MM8X",
        "colab_type": "code",
        "colab": {}
      },
      "source": [
        "li.reverse()"
      ],
      "execution_count": 0,
      "outputs": []
    },
    {
      "cell_type": "code",
      "metadata": {
        "id": "sIq-zZQAMSsA",
        "colab_type": "code",
        "colab": {
          "base_uri": "https://localhost:8080/",
          "height": 105
        },
        "outputId": "b6e6ac11-df47-4b22-aa57-8016343a9927"
      },
      "source": [
        "li.display()"
      ],
      "execution_count": 27,
      "outputs": [
        {
          "output_type": "stream",
          "text": [
            "4\n",
            "3\n",
            "2\n",
            "1\n",
            "0\n"
          ],
          "name": "stdout"
        }
      ]
    }
  ]
}