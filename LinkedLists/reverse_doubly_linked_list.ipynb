{
  "nbformat": 4,
  "nbformat_minor": 0,
  "metadata": {
    "colab": {
      "name": "reverse doubly linked list",
      "provenance": [],
      "collapsed_sections": []
    },
    "kernelspec": {
      "name": "python3",
      "display_name": "Python 3"
    }
  },
  "cells": [
    {
      "cell_type": "code",
      "metadata": {
        "id": "byxKfViHpqlG",
        "colab_type": "code",
        "colab": {}
      },
      "source": [
        "class nodes:\n",
        "  def __init__(self,data):\n",
        "    self.data = data\n",
        "    self.next = None\n",
        "    self.prev = None\n",
        "\n",
        "class doubly_linked_list:\n",
        "  def __init__(self):\n",
        "    self.head = None\n",
        "    self.tail = None\n",
        "    \n",
        "  def insertFromEnd(self,data):\n",
        "    nodeInstance = nodes(data)\n",
        "    if self.head==None:\n",
        "      self.head = nodeInstance\n",
        "      self.tail = nodeInstance\n",
        "    else:\n",
        "      self.tail.next    = nodeInstance\n",
        "      nodeInstance.prev = self.tail\n",
        "      self.tail         = nodeInstance\n",
        "  \n",
        "  def insertFromStart(self,data):\n",
        "    nodeInstance      = nodes(data)\n",
        "    nodeInstance.next = self.head\n",
        "    self.head.prev    = nodeInstance\n",
        "    self.head         = nodeInstance\n",
        "\n",
        "  def deleteFromStart(self):\n",
        "    self.head      = self.head.next\n",
        "    self.head.prev = None\n",
        "  \n",
        "  def deleteFromEnd(self):\n",
        "    self.tail      = self.tail.prev\n",
        "    self.tail.next = None\n",
        "\n",
        "  def displayFromStart(self):\n",
        "    p = self.head\n",
        "    while(p.next):\n",
        "      print(p.data)\n",
        "      p = p.next\n",
        "    print(p.data)\n",
        "\n",
        "  def reverse(self):\n",
        "    temp = None\n",
        "    p  = self.head\n",
        "    self.tail = p\n",
        "    q = p\n",
        "    while p!=None:\n",
        "      temp = p.next\n",
        "      p.next = p.prev\n",
        "      p.prev = temp\n",
        "      q = p\n",
        "      p = p.prev\n",
        "    self.head = q\n",
        "  \n",
        "  def displayFromEnd(self):\n",
        "    p = self.tail\n",
        "    while(p.prev):\n",
        "      print(p.data)\n",
        "      p = p.prev\n",
        "    print(p.data)"
      ],
      "execution_count": 0,
      "outputs": []
    },
    {
      "cell_type": "code",
      "metadata": {
        "id": "3JXHs9SLp12s",
        "colab_type": "code",
        "colab": {
          "base_uri": "https://localhost:8080/",
          "height": 193
        },
        "outputId": "b73043a5-e348-4b6f-af00-b59911caade4"
      },
      "source": [
        "li = doubly_linked_list()\n",
        "for i in range(4):\n",
        "  li.insertFromEnd(i)\n",
        "print('show from start')\n",
        "li.displayFromStart()\n",
        "print('show from end')\n",
        "li.displayFromEnd()"
      ],
      "execution_count": 24,
      "outputs": [
        {
          "output_type": "stream",
          "text": [
            "show from start\n",
            "0\n",
            "1\n",
            "2\n",
            "3\n",
            "show from end\n",
            "3\n",
            "2\n",
            "1\n",
            "0\n"
          ],
          "name": "stdout"
        }
      ]
    },
    {
      "cell_type": "code",
      "metadata": {
        "id": "WVqVl2NRp7_r",
        "colab_type": "code",
        "colab": {}
      },
      "source": [
        "li.reverse()"
      ],
      "execution_count": 0,
      "outputs": []
    },
    {
      "cell_type": "code",
      "metadata": {
        "id": "0ousR-CXshCJ",
        "colab_type": "code",
        "colab": {
          "base_uri": "https://localhost:8080/",
          "height": 193
        },
        "outputId": "5bb4c8b4-6ed0-405b-98ca-dad1f7d2bd79"
      },
      "source": [
        "print('show from start')\n",
        "li.displayFromStart()\n",
        "print('show from end')\n",
        "li.displayFromEnd()"
      ],
      "execution_count": 26,
      "outputs": [
        {
          "output_type": "stream",
          "text": [
            "show from start\n",
            "3\n",
            "2\n",
            "1\n",
            "0\n",
            "show from end\n",
            "0\n",
            "1\n",
            "2\n",
            "3\n"
          ],
          "name": "stdout"
        }
      ]
    },
    {
      "cell_type": "code",
      "metadata": {
        "id": "Ja6sH4bBspU5",
        "colab_type": "code",
        "colab": {}
      },
      "source": [
        ""
      ],
      "execution_count": 0,
      "outputs": []
    }
  ]
}