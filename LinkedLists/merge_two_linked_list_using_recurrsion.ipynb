{
  "nbformat": 4,
  "nbformat_minor": 0,
  "metadata": {
    "colab": {
      "name": "merge two linked list using recurrsion",
      "provenance": [],
      "collapsed_sections": []
    },
    "kernelspec": {
      "name": "python3",
      "display_name": "Python 3"
    }
  },
  "cells": [
    {
      "cell_type": "code",
      "metadata": {
        "id": "3eXm768ypqyd",
        "colab_type": "code",
        "colab": {}
      },
      "source": [
        "class nodes:\n",
        "  def __init__(self,data):\n",
        "    self.data = data\n",
        "    self.next = None\n",
        "  \n",
        "class linkedList:\n",
        "  def __init__(self):\n",
        "    self.head1 = None\n",
        "    self.head2 = None\n",
        "  \n",
        "  def insert1(self,root,data):\n",
        "    if root==None:\n",
        "      nodeInstance = nodes(data)\n",
        "      self.head1 = nodeInstance\n",
        "    elif root.next==None:\n",
        "      nodeInstance = nodes(data)\n",
        "      root.next = nodeInstance\n",
        "    else:\n",
        "      self.insert1(root.next,data)\n",
        "  \n",
        "  def insert2(self,root,data):\n",
        "    if root==None:\n",
        "      nodeInstance = nodes(data)\n",
        "      self.head2 = nodeInstance\n",
        "    elif root.next==None:\n",
        "      nodeInstance = nodes(data)\n",
        "      root.next = nodeInstance\n",
        "    else:\n",
        "      self.insert2(root.next,data)\n",
        "\n",
        "  def merge(self,root):\n",
        "    if root.next:\n",
        "      self.merge(root.next)\n",
        "    else:\n",
        "      root.next = self.head2\n",
        "  \n",
        "  def display1(self):\n",
        "    p = self.head1\n",
        "    while p!=None:\n",
        "      print(p.data)\n",
        "      p = p.next\n",
        "  \n",
        "  def display2(self):\n",
        "    p = self.head2\n",
        "    while p!=None:\n",
        "      print(p.data)\n",
        "      p = p.next"
      ],
      "execution_count": 0,
      "outputs": []
    },
    {
      "cell_type": "code",
      "metadata": {
        "id": "7a1YiIuSsQac",
        "colab_type": "code",
        "colab": {}
      },
      "source": [
        ""
      ],
      "execution_count": 0,
      "outputs": []
    },
    {
      "cell_type": "code",
      "metadata": {
        "id": "tvyCKjZRqjug",
        "colab_type": "code",
        "colab": {}
      },
      "source": [
        "li = linkedList()\n",
        "for i in range(5):\n",
        "  li.insert1(li.head1,i)\n",
        "for i in range(5,10):\n",
        "  li.insert2(li.head2,i)"
      ],
      "execution_count": 0,
      "outputs": []
    },
    {
      "cell_type": "code",
      "metadata": {
        "id": "LuFaBJHbrp9W",
        "colab_type": "code",
        "colab": {}
      },
      "source": [
        "li.merge(li.head1)"
      ],
      "execution_count": 0,
      "outputs": []
    },
    {
      "cell_type": "code",
      "metadata": {
        "id": "H1Uzl_3EqvLO",
        "colab_type": "code",
        "colab": {
          "base_uri": "https://localhost:8080/",
          "height": 193
        },
        "outputId": "2cb1d592-c2f0-4dfe-8e44-5bce3f88dd9a"
      },
      "source": [
        "li.display1()"
      ],
      "execution_count": 17,
      "outputs": [
        {
          "output_type": "stream",
          "text": [
            "0\n",
            "1\n",
            "2\n",
            "3\n",
            "4\n",
            "5\n",
            "6\n",
            "7\n",
            "8\n",
            "9\n"
          ],
          "name": "stdout"
        }
      ]
    },
    {
      "cell_type": "code",
      "metadata": {
        "id": "7FfkYtQUq4O8",
        "colab_type": "code",
        "colab": {}
      },
      "source": [
        ""
      ],
      "execution_count": 0,
      "outputs": []
    }
  ]
}