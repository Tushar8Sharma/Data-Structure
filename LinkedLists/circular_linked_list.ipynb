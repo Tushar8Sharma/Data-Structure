{
  "nbformat": 4,
  "nbformat_minor": 0,
  "metadata": {
    "colab": {
      "name": "circular linked list",
      "provenance": [],
      "collapsed_sections": []
    },
    "kernelspec": {
      "name": "python3",
      "display_name": "Python 3"
    }
  },
  "cells": [
    {
      "cell_type": "code",
      "metadata": {
        "id": "ecGRWaBOWDdm",
        "colab_type": "code",
        "colab": {}
      },
      "source": [
        "class nodes:\n",
        "  def __init__(self,data):\n",
        "    self.data = data\n",
        "    self.next = None\n",
        "\n",
        "class circularLinkedList:\n",
        "  def __init__(self):\n",
        "    self.head = None\n",
        "  \n",
        "  def insert(self,data):\n",
        "    nodeInstance = nodes(data)\n",
        "    if self.head==None:\n",
        "      self.head         = nodeInstance\n",
        "      nodeInstance.next = self.head\n",
        "    else:\n",
        "      p = self.head\n",
        "      while(p.next!=self.head):\n",
        "        p = p.next\n",
        "      p.next            = nodeInstance\n",
        "      nodeInstance.next = self.head\n",
        "\n",
        "  def delete(self):\n",
        "    p = self.head\n",
        "    q = None\n",
        "    while(p.next!=self.head):\n",
        "      q = p\n",
        "      p = p.next\n",
        "    q.next = self.head\n",
        "\n",
        "  def display(self):\n",
        "    p = self.head\n",
        "    while(p.next!=self.head):\n",
        "      print(p.data)\n",
        "      p = p.next\n",
        "    print(p.data) "
      ],
      "execution_count": 0,
      "outputs": []
    },
    {
      "cell_type": "code",
      "metadata": {
        "id": "1rmFKvh6wG_c",
        "colab_type": "code",
        "outputId": "36a8dfe5-37f6-43dc-822f-8fc871a8755c",
        "colab": {
          "base_uri": "https://localhost:8080/",
          "height": 193
        }
      },
      "source": [
        "li = circularLinkedList()\n",
        "for i in range(5):\n",
        "  li.insert(i)\n",
        "li.display()\n",
        "li.delete()\n",
        "print('after deletion')\n",
        "li.display()"
      ],
      "execution_count": 0,
      "outputs": [
        {
          "output_type": "stream",
          "text": [
            "0\n",
            "1\n",
            "2\n",
            "3\n",
            "4\n",
            "after deletion\n",
            "0\n",
            "1\n",
            "2\n",
            "3\n"
          ],
          "name": "stdout"
        }
      ]
    },
    {
      "cell_type": "code",
      "metadata": {
        "id": "-hYJ305cwR1m",
        "colab_type": "code",
        "colab": {}
      },
      "source": [
        ""
      ],
      "execution_count": 0,
      "outputs": []
    }
  ]
}