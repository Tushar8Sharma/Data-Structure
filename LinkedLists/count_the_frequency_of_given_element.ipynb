{
  "nbformat": 4,
  "nbformat_minor": 0,
  "metadata": {
    "colab": {
      "name": "count the frequency of given element",
      "provenance": [],
      "collapsed_sections": []
    },
    "kernelspec": {
      "name": "python3",
      "display_name": "Python 3"
    }
  },
  "cells": [
    {
      "cell_type": "code",
      "metadata": {
        "id": "BaStN7D8LFS9",
        "colab_type": "code",
        "colab": {}
      },
      "source": [
        "class nodes:\n",
        "  def __init__(self,data):\n",
        "    self.data = data\n",
        "    self.next = None\n",
        "  \n",
        "class linkedList:\n",
        "  def __init__(self):\n",
        "    self.head = None\n",
        "  \n",
        "  def insert(self,data):\n",
        "    nodeInstance = nodes(data)\n",
        "    if self.head==None:\n",
        "      self.head = nodeInstance\n",
        "    else:\n",
        "      p = self.head\n",
        "      while(p.next):\n",
        "        p = p.next\n",
        "      p.next = nodeInstance\n",
        "  \n",
        "  def frequency(self,data):\n",
        "    count = 0 \n",
        "    p = self.head\n",
        "    while(p.next):\n",
        "      if p.data == data:\n",
        "        count += 1\n",
        "      p = p.next\n",
        "    if p.data == data:\n",
        "      count += 1\n",
        "    return count\n",
        "  \n",
        "  def display(self):\n",
        "    p = self.head\n",
        "    while p.next:\n",
        "      print(p.data)\n",
        "      p = p.next\n",
        "    print(p.data)"
      ],
      "execution_count": 0,
      "outputs": []
    },
    {
      "cell_type": "code",
      "metadata": {
        "id": "1kO85zL8MQX7",
        "colab_type": "code",
        "colab": {}
      },
      "source": [
        "li = linkedList()"
      ],
      "execution_count": 0,
      "outputs": []
    },
    {
      "cell_type": "code",
      "metadata": {
        "id": "zzXhqhxNMS3W",
        "colab_type": "code",
        "colab": {}
      },
      "source": [
        "for i in range(5):\n",
        "  li.insert(i)\n",
        "li.insert(1)\n",
        "li.insert(1)"
      ],
      "execution_count": 0,
      "outputs": []
    },
    {
      "cell_type": "code",
      "metadata": {
        "id": "BDBvyv8zMfVY",
        "colab_type": "code",
        "outputId": "02afc4b1-859f-4520-d671-56f619343fdc",
        "colab": {
          "base_uri": "https://localhost:8080/",
          "height": 140
        }
      },
      "source": [
        "li.display()"
      ],
      "execution_count": 0,
      "outputs": [
        {
          "output_type": "stream",
          "text": [
            "0\n",
            "1\n",
            "2\n",
            "3\n",
            "4\n",
            "1\n",
            "1\n"
          ],
          "name": "stdout"
        }
      ]
    },
    {
      "cell_type": "code",
      "metadata": {
        "id": "mgKlQC76MgYJ",
        "colab_type": "code",
        "outputId": "4e674cad-6d8c-424c-9946-b5aa80d71d02",
        "colab": {
          "base_uri": "https://localhost:8080/",
          "height": 34
        }
      },
      "source": [
        "li.frequency(8)"
      ],
      "execution_count": 0,
      "outputs": [
        {
          "output_type": "execute_result",
          "data": {
            "text/plain": [
              "0"
            ]
          },
          "metadata": {
            "tags": []
          },
          "execution_count": 17
        }
      ]
    },
    {
      "cell_type": "code",
      "metadata": {
        "id": "mqrf5-IrMxIs",
        "colab_type": "code",
        "colab": {}
      },
      "source": [
        ""
      ],
      "execution_count": 0,
      "outputs": []
    }
  ]
}