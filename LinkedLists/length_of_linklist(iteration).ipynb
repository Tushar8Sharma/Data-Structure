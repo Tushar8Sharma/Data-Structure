{
  "nbformat": 4,
  "nbformat_minor": 0,
  "metadata": {
    "colab": {
      "name": "length of linklist(iteration)",
      "provenance": [],
      "collapsed_sections": []
    },
    "kernelspec": {
      "name": "python3",
      "display_name": "Python 3"
    },
    "accelerator": "GPU"
  },
  "cells": [
    {
      "cell_type": "code",
      "metadata": {
        "id": "jxrdzanEy_jF",
        "colab_type": "code",
        "colab": {}
      },
      "source": [
        "class nodes:\n",
        "  def __init__(self,data):\n",
        "    self.data = data\n",
        "    self.next = None\n",
        "\n",
        "class link:\n",
        "  def __init__(self):\n",
        "    self.head = None\n",
        "\n",
        "  def insert(self,data):\n",
        "    nodeInstance = nodes(data)\n",
        "    if self.head==None:\n",
        "      self.head = nodeInstance\n",
        "    else:\n",
        "      p = self.head\n",
        "      while(p.next):\n",
        "        p = p.next\n",
        "      p.next = nodeInstance\n",
        "\n",
        "  def length(self):\n",
        "    p = self.head\n",
        "    count = 0\n",
        "    while(p.next):\n",
        "      count += 1\n",
        "      p=p.next\n",
        "    count += 1\n",
        "    return count\n",
        "  \n",
        "  def display(self):\n",
        "    p = self.head\n",
        "    while(p.next):\n",
        "      print(p.data)\n",
        "      p = p.next\n",
        "    print(p.data)"
      ],
      "execution_count": 0,
      "outputs": []
    },
    {
      "cell_type": "code",
      "metadata": {
        "id": "08jZq-obzZTj",
        "colab_type": "code",
        "colab": {}
      },
      "source": [
        "li = link()"
      ],
      "execution_count": 0,
      "outputs": []
    },
    {
      "cell_type": "code",
      "metadata": {
        "id": "sS6b6dQr0xUa",
        "colab_type": "code",
        "colab": {}
      },
      "source": [
        "for i in range(5):\n",
        "  li.insert(i)"
      ],
      "execution_count": 0,
      "outputs": []
    },
    {
      "cell_type": "code",
      "metadata": {
        "id": "OEvaW2O-00mV",
        "colab_type": "code",
        "outputId": "a3e87f2c-552e-40b2-b53c-3eadef493f46",
        "colab": {
          "base_uri": "https://localhost:8080/",
          "height": 105
        }
      },
      "source": [
        "li.display()"
      ],
      "execution_count": 0,
      "outputs": [
        {
          "output_type": "stream",
          "text": [
            "0\n",
            "1\n",
            "2\n",
            "3\n",
            "4\n"
          ],
          "name": "stdout"
        }
      ]
    },
    {
      "cell_type": "code",
      "metadata": {
        "id": "zQjprC7p02kp",
        "colab_type": "code",
        "outputId": "f47d4937-1426-4efa-ea1e-36e087fadac8",
        "colab": {
          "base_uri": "https://localhost:8080/",
          "height": 34
        }
      },
      "source": [
        "li.length()"
      ],
      "execution_count": 0,
      "outputs": [
        {
          "output_type": "execute_result",
          "data": {
            "text/plain": [
              "5"
            ]
          },
          "metadata": {
            "tags": []
          },
          "execution_count": 10
        }
      ]
    },
    {
      "cell_type": "code",
      "metadata": {
        "id": "O17ibBr704cq",
        "colab_type": "code",
        "colab": {}
      },
      "source": [
        ""
      ],
      "execution_count": 0,
      "outputs": []
    }
  ]
}