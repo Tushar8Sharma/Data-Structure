{
  "nbformat": 4,
  "nbformat_minor": 0,
  "metadata": {
    "colab": {
      "name": "swapping first and last node of circular linked list",
      "provenance": [],
      "collapsed_sections": []
    },
    "kernelspec": {
      "name": "python3",
      "display_name": "Python 3"
    }
  },
  "cells": [
    {
      "cell_type": "code",
      "metadata": {
        "id": "7hlfnmQXF3ZK",
        "colab_type": "code",
        "colab": {}
      },
      "source": [
        "class node:\n",
        "  def __init__(self,data):\n",
        "    self.data = data\n",
        "    self.next = None\n",
        "\n",
        "class CircularLinkedList:\n",
        "  def __init__(self):\n",
        "    self.head = None\n",
        "\n",
        "  def insert(self,data):\n",
        "    nodeInstance = node(data)\n",
        "    if self.head==None:\n",
        "      self.head         = nodeInstance\n",
        "      nodeInstance.next = self.head\n",
        "    else:\n",
        "      p = self.head\n",
        "      while p.next!=self.head:\n",
        "        p = p.next\n",
        "      p.next            = nodeInstance\n",
        "      nodeInstance.next = self.head\n",
        "  \n",
        "  def swap(self):\n",
        "    p = self.head\n",
        "    while p.next!=self.head:\n",
        "      p = p.next\n",
        "    temp = self.head.data\n",
        "    self.head.data = p.data\n",
        "    p.data = temp\n",
        "    \n",
        "  def display(self):\n",
        "    p = self.head\n",
        "    while p.next != self.head:\n",
        "      print(p.data)\n",
        "      p=p.next\n",
        "    print(p.data)"
      ],
      "execution_count": 0,
      "outputs": []
    },
    {
      "cell_type": "code",
      "metadata": {
        "id": "ENotBdLQHtdE",
        "colab_type": "code",
        "colab": {}
      },
      "source": [
        "li = CircularLinkedList()"
      ],
      "execution_count": 0,
      "outputs": []
    },
    {
      "cell_type": "code",
      "metadata": {
        "id": "yHIKS9TnHxEk",
        "colab_type": "code",
        "colab": {}
      },
      "source": [
        "for i in range(5):\n",
        "  li.insert(i)"
      ],
      "execution_count": 0,
      "outputs": []
    },
    {
      "cell_type": "code",
      "metadata": {
        "id": "wy5rC1psH4uy",
        "colab_type": "code",
        "colab": {
          "base_uri": "https://localhost:8080/",
          "height": 105
        },
        "outputId": "10cf3e30-07c3-4f0a-c02d-50fda653975e"
      },
      "source": [
        "li.display()"
      ],
      "execution_count": 5,
      "outputs": [
        {
          "output_type": "stream",
          "text": [
            "0\n",
            "1\n",
            "2\n",
            "3\n",
            "4\n"
          ],
          "name": "stdout"
        }
      ]
    },
    {
      "cell_type": "code",
      "metadata": {
        "id": "v5STS2CLH6U9",
        "colab_type": "code",
        "colab": {}
      },
      "source": [
        "li.swap()"
      ],
      "execution_count": 0,
      "outputs": []
    },
    {
      "cell_type": "code",
      "metadata": {
        "id": "FkfNIJsyH7vf",
        "colab_type": "code",
        "colab": {
          "base_uri": "https://localhost:8080/",
          "height": 105
        },
        "outputId": "19918d41-0e61-4883-afce-56987f586e5f"
      },
      "source": [
        "li.display()"
      ],
      "execution_count": 7,
      "outputs": [
        {
          "output_type": "stream",
          "text": [
            "4\n",
            "1\n",
            "2\n",
            "3\n",
            "0\n"
          ],
          "name": "stdout"
        }
      ]
    },
    {
      "cell_type": "code",
      "metadata": {
        "id": "9YukkmhSH9Fj",
        "colab_type": "code",
        "colab": {}
      },
      "source": [
        ""
      ],
      "execution_count": 0,
      "outputs": []
    }
  ]
}