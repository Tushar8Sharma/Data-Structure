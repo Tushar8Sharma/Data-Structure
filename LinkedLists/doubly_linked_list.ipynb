{
  "nbformat": 4,
  "nbformat_minor": 0,
  "metadata": {
    "colab": {
      "name": "doubly linked list",
      "provenance": [],
      "collapsed_sections": []
    },
    "kernelspec": {
      "name": "python3",
      "display_name": "Python 3"
    }
  },
  "cells": [
    {
      "cell_type": "code",
      "metadata": {
        "id": "7KR2CjYDrJAS",
        "colab_type": "code",
        "colab": {}
      },
      "source": [
        "class nodes:\n",
        "  def __init__(self,data):\n",
        "    self.data = data\n",
        "    self.next = None\n",
        "    self.prev = None\n",
        "\n",
        "class doubly_linked_list:\n",
        "  def __init__(self):\n",
        "    self.head = None\n",
        "    self.tail = None\n",
        "    \n",
        "  def insertFromEnd(self,data):\n",
        "    nodeInstance = nodes(data)\n",
        "    if self.head==None:\n",
        "      self.head = nodeInstance\n",
        "      self.tail = nodeInstance\n",
        "    else:\n",
        "      self.tail.next    = nodeInstance\n",
        "      nodeInstance.prev = self.tail\n",
        "      self.tail         = nodeInstance\n",
        "  \n",
        "  def insertFromStart(self,data):\n",
        "    nodeInstance      = nodes(data)\n",
        "    nodeInstance.next = self.head\n",
        "    self.head.prev    = nodeInstance\n",
        "    self.head         = nodeInstance\n",
        "\n",
        "  def deleteFromStart(self):\n",
        "    self.head      = self.head.next\n",
        "    self.head.prev = None\n",
        "  \n",
        "  def deleteFromEnd(self):\n",
        "    self.tail      = self.tail.prev\n",
        "    self.tail.next = None\n",
        "\n",
        "  def displayFromStart(self):\n",
        "    p = self.head\n",
        "    while(p.next):\n",
        "      print(p.data)\n",
        "      p = p.next\n",
        "    print(p.data)\n",
        "  \n",
        "  def displayFromEnd(self):\n",
        "    p = self.tail\n",
        "    while(p.prev):\n",
        "      print(p.data)\n",
        "      p = p.prev\n",
        "    print(p.data)"
      ],
      "execution_count": 0,
      "outputs": []
    },
    {
      "cell_type": "code",
      "metadata": {
        "id": "kW9yga-ORt2U",
        "colab_type": "code",
        "outputId": "2d75ea61-b777-4cff-b4e1-5071d2f4b5d6",
        "colab": {
          "base_uri": "https://localhost:8080/",
          "height": 193
        }
      },
      "source": [
        "li = doubly_linked_list()\n",
        "for i in range(4):\n",
        "  li.insertFromEnd(i)\n",
        "print('show from start')\n",
        "li.displayFromStart()\n",
        "print('show from end')\n",
        "li.displayFromEnd()"
      ],
      "execution_count": 0,
      "outputs": [
        {
          "output_type": "stream",
          "text": [
            "show from start\n",
            "0\n",
            "1\n",
            "2\n",
            "3\n",
            "show from end\n",
            "3\n",
            "2\n",
            "1\n",
            "0\n"
          ],
          "name": "stdout"
        }
      ]
    },
    {
      "cell_type": "code",
      "metadata": {
        "id": "M68LhCQgSTQO",
        "colab_type": "code",
        "outputId": "b6d2b144-fdd6-4a2e-8f50-e89a3d1cebfa",
        "colab": {
          "base_uri": "https://localhost:8080/",
          "height": 140
        }
      },
      "source": [
        "li.deleteFromEnd()\n",
        "print('show from start')\n",
        "li.displayFromStart()\n",
        "li.deleteFromStart()\n",
        "print('show from end')\n",
        "li.displayFromEnd()"
      ],
      "execution_count": 0,
      "outputs": [
        {
          "output_type": "stream",
          "text": [
            "show from start\n",
            "0\n",
            "1\n",
            "2\n",
            "show from end\n",
            "2\n",
            "1\n"
          ],
          "name": "stdout"
        }
      ]
    },
    {
      "cell_type": "code",
      "metadata": {
        "id": "CkJmUA7qUN9T",
        "colab_type": "code",
        "colab": {}
      },
      "source": [
        ""
      ],
      "execution_count": 0,
      "outputs": []
    }
  ]
}