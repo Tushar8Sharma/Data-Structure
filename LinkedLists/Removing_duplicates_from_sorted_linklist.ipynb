{
  "nbformat": 4,
  "nbformat_minor": 0,
  "metadata": {
    "colab": {
      "name": "Removing duplicates from sorted linklist",
      "provenance": [],
      "collapsed_sections": []
    },
    "kernelspec": {
      "name": "python3",
      "display_name": "Python 3"
    }
  },
  "cells": [
    {
      "cell_type": "code",
      "metadata": {
        "id": "sKbpM_x5cVTt",
        "colab_type": "code",
        "colab": {}
      },
      "source": [
        "class nodes:\n",
        "  def __init__(self,data):\n",
        "    self.data = data\n",
        "    self.next = None\n",
        "  \n",
        "class linkedlist:\n",
        "  def __init__(self):\n",
        "    self.head = None\n",
        "  \n",
        "  def list1(self,data):\n",
        "    nodeInstance = nodes(data)\n",
        "    if self.head is None:\n",
        "      self.head = nodeInstance\n",
        "    else:\n",
        "      p = self.head\n",
        "      while p.next:\n",
        "        p = p.next\n",
        "      p.next = nodeInstance\n",
        "  \n",
        "  def display(self):\n",
        "    p = self.head\n",
        "    while p.next:\n",
        "      print(p.data)\n",
        "      p = p.next\n",
        "    print(p.data)\n",
        "  \n",
        "  def removeDuplicate(self):\n",
        "    q = self.head\n",
        "    p = q.next\n",
        "    while p.next:\n",
        "      if q.data == p.data:\n",
        "        q.next = p.next\n",
        "        p = p.next\n",
        "      q = q.next\n",
        "      p = p.next\n",
        "    if q.data == p.data:\n",
        "      print('ok')\n",
        "      q.next = None"
      ],
      "execution_count": 0,
      "outputs": []
    },
    {
      "cell_type": "code",
      "metadata": {
        "id": "4clnJijzfAAB",
        "colab_type": "code",
        "colab": {}
      },
      "source": [
        "li = linkedlist()"
      ],
      "execution_count": 0,
      "outputs": []
    },
    {
      "cell_type": "code",
      "metadata": {
        "id": "U-BVOAZFfDgO",
        "colab_type": "code",
        "colab": {}
      },
      "source": [
        "li.list1(1)\n",
        "li.list1(1)\n",
        "li.list1(2)\n",
        "li.list1(3)\n",
        "li.list1(3)"
      ],
      "execution_count": 0,
      "outputs": []
    },
    {
      "cell_type": "code",
      "metadata": {
        "id": "iJZwpcscfOQO",
        "colab_type": "code",
        "outputId": "90d01df4-7a23-4e57-abae-54554e94390d",
        "colab": {
          "base_uri": "https://localhost:8080/",
          "height": 102
        }
      },
      "source": [
        "li.display()"
      ],
      "execution_count": 0,
      "outputs": [
        {
          "output_type": "stream",
          "text": [
            "1\n",
            "1\n",
            "2\n",
            "3\n",
            "3\n"
          ],
          "name": "stdout"
        }
      ]
    },
    {
      "cell_type": "code",
      "metadata": {
        "id": "e8XB3RuDfUw2",
        "colab_type": "code",
        "outputId": "71ad164c-edf1-4eba-88ff-90727dec968e",
        "colab": {
          "base_uri": "https://localhost:8080/",
          "height": 34
        }
      },
      "source": [
        "li.removeDuplicate()"
      ],
      "execution_count": 0,
      "outputs": [
        {
          "output_type": "stream",
          "text": [
            "ok\n"
          ],
          "name": "stdout"
        }
      ]
    },
    {
      "cell_type": "code",
      "metadata": {
        "id": "aeyIiRPSfyVg",
        "colab_type": "code",
        "outputId": "4d04c562-8283-4334-d4a9-8dab8a99fb03",
        "colab": {
          "base_uri": "https://localhost:8080/",
          "height": 68
        }
      },
      "source": [
        "li.display()"
      ],
      "execution_count": 0,
      "outputs": [
        {
          "output_type": "stream",
          "text": [
            "1\n",
            "2\n",
            "3\n"
          ],
          "name": "stdout"
        }
      ]
    },
    {
      "cell_type": "code",
      "metadata": {
        "id": "-LGAfvGifzqe",
        "colab_type": "code",
        "colab": {}
      },
      "source": [
        ""
      ],
      "execution_count": 0,
      "outputs": []
    }
  ]
}