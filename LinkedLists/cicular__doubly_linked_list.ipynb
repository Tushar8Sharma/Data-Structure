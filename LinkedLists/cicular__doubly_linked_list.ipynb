{
  "nbformat": 4,
  "nbformat_minor": 0,
  "metadata": {
    "colab": {
      "name": "cicular _doubly_linked_list",
      "provenance": [],
      "collapsed_sections": []
    },
    "kernelspec": {
      "name": "python3",
      "display_name": "Python 3"
    }
  },
  "cells": [
    {
      "cell_type": "code",
      "metadata": {
        "id": "OEuzOA8_PGnd",
        "colab_type": "code",
        "colab": {}
      },
      "source": [
        "class nodes:\n",
        "  def __init__(self,data):\n",
        "    self.data = data\n",
        "    self.next = None\n",
        "    self.prev = None\n",
        "\n",
        "class doubly_circular_linked_list:\n",
        "  def __init__(self):\n",
        "    self.head = None\n",
        "    self.tail = None\n",
        "  \n",
        "  def insertFromEnd(self,data):\n",
        "    nodeInstance = nodes(data)\n",
        "    if self.head==None:\n",
        "      self.head         = nodeInstance\n",
        "      self.tail         = nodeInstance\n",
        "      nodeInstance.next = self.head\n",
        "      nodeInstance.prev = self.tail\n",
        "    else:\n",
        "      self.tail.next    = nodeInstance\n",
        "      nodeInstance.next = self.head\n",
        "      nodeInstance.prev = self.tail \n",
        "      # print(self.tail.data)\n",
        "      self.tail         = nodeInstance\n",
        "      self.tail.next    = self.head\n",
        "      self.head.prev    = self.tail\n",
        "      # print(self.tail.prev.data)\n",
        "  \n",
        "  def insertFromFront(self,data):\n",
        "    nodeInstance = nodes(data)\n",
        "    if self.head==None:\n",
        "      self.head         = nodeInstance\n",
        "      self.tail         = nodeInstance\n",
        "      nodeInstance.next = self.head\n",
        "      nodeInstance.prev = self.tail\n",
        "    else:\n",
        "      nodeInstance.next = self.head\n",
        "      self.head.prev    = nodeInstance\n",
        "      nodeInstance.prev = self.tail\n",
        "      self.head         = nodeInstance\n",
        "      self.tail.next    = self.head\n",
        "      self.head.prev    = self.tail\n",
        "    \n",
        "  def displayFront(self):\n",
        "    p = self.head\n",
        "    while(p.next!=self.head):\n",
        "\n",
        "      print(p.data)\n",
        "      p = p.next\n",
        "    print(p.data)\n",
        "\n",
        "  def displayEnd(self):\n",
        "    p = self.tail\n",
        "    while(p.prev!=self.tail):\n",
        "      print(p.data)\n",
        "      p = p.prev\n",
        "    print(p.data)"
      ],
      "execution_count": 0,
      "outputs": []
    },
    {
      "cell_type": "code",
      "metadata": {
        "id": "4wSfLJiNPris",
        "colab_type": "code",
        "colab": {}
      },
      "source": [
        "li = doubly_circular_linked_list()"
      ],
      "execution_count": 0,
      "outputs": []
    },
    {
      "cell_type": "code",
      "metadata": {
        "id": "nXvZ2xYNPwDj",
        "colab_type": "code",
        "colab": {}
      },
      "source": [
        "for i in range(5):\n",
        "  li.insertFromEnd(i)\n",
        "for i in range(5,10):\n",
        "  li.insertFromFront(i)"
      ],
      "execution_count": 0,
      "outputs": []
    },
    {
      "cell_type": "code",
      "metadata": {
        "id": "LGjuz2GGP8NG",
        "colab_type": "code",
        "outputId": "0241dae2-6d26-4a84-e373-39b239955c0b",
        "colab": {
          "base_uri": "https://localhost:8080/",
          "height": 281
        }
      },
      "source": [
        "li.displayEnd()"
      ],
      "execution_count": 0,
      "outputs": [
        {
          "output_type": "stream",
          "text": [
            "4\n",
            "3\n",
            "2\n",
            "1\n",
            "0\n",
            "4\n",
            "3\n",
            "2\n",
            "1\n",
            "0\n",
            "5\n",
            "6\n",
            "7\n",
            "8\n",
            "9\n"
          ],
          "name": "stdout"
        }
      ]
    },
    {
      "cell_type": "code",
      "metadata": {
        "id": "4QQeH_2pwDQs",
        "colab_type": "code",
        "outputId": "b200eef9-901e-4822-8374-4abad2263ca9",
        "colab": {
          "base_uri": "https://localhost:8080/",
          "height": 281
        }
      },
      "source": [
        "li.displayFront()"
      ],
      "execution_count": 0,
      "outputs": [
        {
          "output_type": "stream",
          "text": [
            "9\n",
            "8\n",
            "7\n",
            "6\n",
            "5\n",
            "0\n",
            "1\n",
            "2\n",
            "3\n",
            "4\n",
            "0\n",
            "1\n",
            "2\n",
            "3\n",
            "4\n"
          ],
          "name": "stdout"
        }
      ]
    },
    {
      "cell_type": "code",
      "metadata": {
        "id": "rdS3j3x8wNzf",
        "colab_type": "code",
        "colab": {}
      },
      "source": [
        ""
      ],
      "execution_count": 0,
      "outputs": []
    }
  ]
}