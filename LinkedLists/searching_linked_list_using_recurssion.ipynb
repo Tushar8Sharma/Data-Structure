{
  "nbformat": 4,
  "nbformat_minor": 0,
  "metadata": {
    "colab": {
      "name": "searching linked list using recurssion",
      "provenance": [],
      "collapsed_sections": []
    },
    "kernelspec": {
      "name": "python3",
      "display_name": "Python 3"
    }
  },
  "cells": [
    {
      "cell_type": "code",
      "metadata": {
        "id": "67-7u6kcC_0Y",
        "colab_type": "code",
        "colab": {}
      },
      "source": [
        "class nodes:\n",
        "  def __init__(self,data):\n",
        "    self.data = data\n",
        "    self.next = None\n",
        "  \n",
        "class link:\n",
        "  def __init__(self):\n",
        "    self.head  = None\n",
        "    self.count = 0\n",
        "  \n",
        "  def add(self,data):\n",
        "    nodeInstance = nodes(data)\n",
        "    if(self.head==None):\n",
        "      self.head = nodeInstance\n",
        "      self.p    = self.head\n",
        "    else:\n",
        "      p = self.head\n",
        "      while(p.next):\n",
        "        p=p.next\n",
        "      p.next = nodeInstance\n",
        "      # self.add1(self,nodeInstance)\n",
        "    self.p = self.head\n",
        "    return self.head\n",
        "  # def add1(self,nodeInstance):\n",
        "  #   if self.p.next:\n",
        "  #     self.p = self.p.next\n",
        "  #   self.p.\n",
        "\n",
        "  def search(self,src,data,count = 0):\n",
        "    try:\n",
        "      if src.data == data:\n",
        "        # print('element is in ' + str(self.count) + ' position')\n",
        "        return self.count\n",
        "      else:\n",
        "        self.p = self.p.next\n",
        "        self.count += 1\n",
        "        pos = None\n",
        "        pos = self.search(data)\n",
        "        if pos :\n",
        "          self.count = 0\n",
        "          self.p = self.head\n",
        "        return pos\n",
        "    except:\n",
        "      print('no such data')\n",
        "      self.count = 0\n",
        "      self.p = self.head\n",
        "  \n",
        "  def display(self):\n",
        "    self.p = self.head\n",
        "    while(self.p.next):\n",
        "      print(self.p.data)\n",
        "      self.p = self.p.next\n",
        "    print(self.p.data)"
      ],
      "execution_count": 0,
      "outputs": []
    },
    {
      "cell_type": "code",
      "metadata": {
        "id": "HA-oDpxiEnJk",
        "colab_type": "code",
        "colab": {}
      },
      "source": [
        "li = link()"
      ],
      "execution_count": 0,
      "outputs": []
    },
    {
      "cell_type": "code",
      "metadata": {
        "id": "8vjpK3hHEp9l",
        "colab_type": "code",
        "colab": {}
      },
      "source": [
        "for i in range(5):\n",
        "  lis = li.add(i)"
      ],
      "execution_count": 0,
      "outputs": []
    },
    {
      "cell_type": "code",
      "metadata": {
        "id": "w0ka4UGvEvnN",
        "colab_type": "code",
        "outputId": "e6c386f9-7507-46a3-a955-826984644109",
        "colab": {
          "base_uri": "https://localhost:8080/",
          "height": 34
        }
      },
      "source": [
        "li.search(src,0)"
      ],
      "execution_count": 0,
      "outputs": [
        {
          "output_type": "execute_result",
          "data": {
            "text/plain": [
              "0"
            ]
          },
          "metadata": {
            "tags": []
          },
          "execution_count": 109
        }
      ]
    },
    {
      "cell_type": "code",
      "metadata": {
        "id": "BAbF3KpcE4P9",
        "colab_type": "code",
        "outputId": "a7b79e91-a558-4614-96de-cd3b1c34fe5a",
        "colab": {
          "base_uri": "https://localhost:8080/",
          "height": 102
        }
      },
      "source": [
        "li.display()"
      ],
      "execution_count": 0,
      "outputs": [
        {
          "output_type": "stream",
          "text": [
            "0\n",
            "1\n",
            "2\n",
            "3\n",
            "4\n"
          ],
          "name": "stdout"
        }
      ]
    },
    {
      "cell_type": "code",
      "metadata": {
        "id": "4TgCDS5fFgov",
        "colab_type": "code",
        "colab": {}
      },
      "source": [
        ""
      ],
      "execution_count": 0,
      "outputs": []
    }
  ]
}