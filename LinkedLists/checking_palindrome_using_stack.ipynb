{
  "nbformat": 4,
  "nbformat_minor": 0,
  "metadata": {
    "colab": {
      "name": "checking palindrome using stack",
      "provenance": [],
      "collapsed_sections": []
    },
    "kernelspec": {
      "name": "python3",
      "display_name": "Python 3"
    }
  },
  "cells": [
    {
      "cell_type": "code",
      "metadata": {
        "id": "PuA38LUYtocI",
        "colab_type": "code",
        "colab": {}
      },
      "source": [
        "class nodes:\n",
        "  def __init__(self,data):\n",
        "    self.data = data\n",
        "    self.next = None\n",
        "  \n",
        "class linkedList:\n",
        "  def __init__(self):\n",
        "    self.head = None\n",
        "    self.MAX = 5\n",
        "    self.arr = [0]*(5)\n",
        "    self.init = 0\n",
        "  \n",
        "  def insert(self,data):\n",
        "    nodeInstance = nodes(data)\n",
        "    if self.head==None:\n",
        "      self.head = nodeInstance\n",
        "    else:\n",
        "      p = self.head\n",
        "      while p.next:\n",
        "        p = p.next\n",
        "      p.next = nodeInstance\n",
        "  \n",
        "  def display(self):\n",
        "    p = self.head\n",
        "    while p.next:\n",
        "      print(p.data)\n",
        "      p=p.next\n",
        "    print(p.data)\n",
        "  \n",
        "  def checkPalindrome(self):\n",
        "    p = self.head\n",
        "    while p.next:\n",
        "      self.push(p.data)\n",
        "      p = p.next\n",
        "    self.push(p.data)\n",
        "    flag = 0\n",
        "    p = self.head\n",
        "    while p.next:\n",
        "      y = self.pop()\n",
        "      if y==p.data:\n",
        "        p = p.next\n",
        "        continue\n",
        "      else:\n",
        "        flag = 1\n",
        "        break\n",
        "    y = self.pop()\n",
        "    if p.data != y:\n",
        "      flag = 1\n",
        "    if flag==0:\n",
        "      print('palindrome')\n",
        "    else:\n",
        "      print('not palindrome')\n",
        "\n",
        "  def push(self,data):\n",
        "    if self.init < self.MAX:\n",
        "      self.arr[self.init] = data\n",
        "      self.init += 1\n",
        "    else:\n",
        "      print('stack is full')\n",
        "\n",
        "  def pop(self):\n",
        "    if self.init>-1:\n",
        "      self.init -= 1\n",
        "      data = self.arr[self.init] \n",
        "      return data\n",
        "    return 0"
      ],
      "execution_count": 0,
      "outputs": []
    },
    {
      "cell_type": "code",
      "metadata": {
        "id": "rd_GMMsRww_u",
        "colab_type": "code",
        "colab": {}
      },
      "source": [
        "li = linkedList()"
      ],
      "execution_count": 0,
      "outputs": []
    },
    {
      "cell_type": "code",
      "metadata": {
        "id": "EDR8uK_SwylS",
        "colab_type": "code",
        "colab": {}
      },
      "source": [
        "li.insert(1)\n",
        "li.insert(2)\n",
        "li.insert(2)\n",
        "li.insert(1)\n",
        "li.insert(1)"
      ],
      "execution_count": 0,
      "outputs": []
    },
    {
      "cell_type": "code",
      "metadata": {
        "id": "zZmrcgkDw7-2",
        "colab_type": "code",
        "colab": {
          "base_uri": "https://localhost:8080/",
          "height": 105
        },
        "outputId": "13415b66-5203-48b7-94c8-ab40ca9a4305"
      },
      "source": [
        "li.display()"
      ],
      "execution_count": 59,
      "outputs": [
        {
          "output_type": "stream",
          "text": [
            "1\n",
            "2\n",
            "2\n",
            "1\n",
            "1\n"
          ],
          "name": "stdout"
        }
      ]
    },
    {
      "cell_type": "code",
      "metadata": {
        "id": "mL1pOzw2xBuT",
        "colab_type": "code",
        "colab": {
          "base_uri": "https://localhost:8080/",
          "height": 34
        },
        "outputId": "bb411d87-a6de-414c-8490-a32a3e204cd2"
      },
      "source": [
        "li.checkPalindrome()"
      ],
      "execution_count": 60,
      "outputs": [
        {
          "output_type": "stream",
          "text": [
            "not palindrome\n"
          ],
          "name": "stdout"
        }
      ]
    },
    {
      "cell_type": "code",
      "metadata": {
        "id": "24D88aNQxD_f",
        "colab_type": "code",
        "colab": {}
      },
      "source": [
        ""
      ],
      "execution_count": 0,
      "outputs": []
    }
  ]
}