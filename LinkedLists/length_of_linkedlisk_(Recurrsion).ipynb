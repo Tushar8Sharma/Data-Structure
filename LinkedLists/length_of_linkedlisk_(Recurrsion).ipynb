{
  "nbformat": 4,
  "nbformat_minor": 0,
  "metadata": {
    "colab": {
      "name": "length of linkedlisk (Recurrsion)",
      "provenance": [],
      "collapsed_sections": []
    },
    "kernelspec": {
      "name": "python3",
      "display_name": "Python 3"
    }
  },
  "cells": [
    {
      "cell_type": "code",
      "metadata": {
        "id": "YZbCOiMO1UvB",
        "colab_type": "code",
        "colab": {}
      },
      "source": [
        "class nodes:\n",
        "  def __init__(self,data):\n",
        "    self.data = data\n",
        "    self.next = None\n",
        "\n",
        "class link:\n",
        "  def __init__(self):\n",
        "    self.head = None\n",
        "\n",
        "  def insert(self,data):\n",
        "    nodeInstance = nodes(data)\n",
        "    if self.head==None:\n",
        "      self.head = nodeInstance\n",
        "    else:\n",
        "      p = self.head\n",
        "      while(p.next):\n",
        "        p = p.next\n",
        "      p.next = nodeInstance\n",
        "    return self.head\n",
        "\n",
        "  def length(self,node):\n",
        "    if (not node):\n",
        "      return 0\n",
        "    else:\n",
        "      return 1 + self.length(node.next)\n",
        "  \n",
        "  def count(self):\n",
        "    return self.length(self.head)\n",
        "  \n",
        "  def display(self):\n",
        "    p = self.head\n",
        "    while(p.next):\n",
        "      print(p.data)\n",
        "      p = p.next\n",
        "    print(p.data)"
      ],
      "execution_count": 0,
      "outputs": []
    },
    {
      "cell_type": "code",
      "metadata": {
        "id": "bJovY6nA1zSV",
        "colab_type": "code",
        "colab": {}
      },
      "source": [
        "li = link()"
      ],
      "execution_count": 0,
      "outputs": []
    },
    {
      "cell_type": "code",
      "metadata": {
        "id": "d8wCDCsE2hXI",
        "colab_type": "code",
        "colab": {}
      },
      "source": [
        "for i in range(5):\n",
        "  node = li.insert(i)"
      ],
      "execution_count": 0,
      "outputs": []
    },
    {
      "cell_type": "code",
      "metadata": {
        "id": "EOKbL2z82pMl",
        "colab_type": "code",
        "outputId": "ec5d65cd-39b4-4e26-9101-2269155a8c86",
        "colab": {
          "base_uri": "https://localhost:8080/",
          "height": 105
        }
      },
      "source": [
        "li.display()"
      ],
      "execution_count": 0,
      "outputs": [
        {
          "output_type": "stream",
          "text": [
            "0\n",
            "1\n",
            "2\n",
            "3\n",
            "4\n"
          ],
          "name": "stdout"
        }
      ]
    },
    {
      "cell_type": "code",
      "metadata": {
        "id": "y9vD9t7g2rkI",
        "colab_type": "code",
        "outputId": "ca85fb9b-8658-40bc-fd64-74b4ff79b327",
        "colab": {
          "base_uri": "https://localhost:8080/",
          "height": 34
        }
      },
      "source": [
        "li.count()"
      ],
      "execution_count": 0,
      "outputs": [
        {
          "output_type": "execute_result",
          "data": {
            "text/plain": [
              "5"
            ]
          },
          "metadata": {
            "tags": []
          },
          "execution_count": 20
        }
      ]
    },
    {
      "cell_type": "code",
      "metadata": {
        "id": "VL2A7p_82tRs",
        "colab_type": "code",
        "colab": {}
      },
      "source": [
        ""
      ],
      "execution_count": 0,
      "outputs": []
    }
  ]
}