{
  "nbformat": 4,
  "nbformat_minor": 0,
  "metadata": {
    "colab": {
      "name": "insertion using recurrsion",
      "provenance": [],
      "collapsed_sections": []
    },
    "kernelspec": {
      "name": "python3",
      "display_name": "Python 3"
    }
  },
  "cells": [
    {
      "cell_type": "code",
      "metadata": {
        "id": "i4naOc3Szplw",
        "colab_type": "code",
        "colab": {}
      },
      "source": [
        "class nodes:\n",
        "  def __init__(self,data):\n",
        "    self.data = data\n",
        "    self.next = None\n",
        "  \n",
        "class linkedList:\n",
        "  def __init__(self):\n",
        "    self.head = None\n",
        "  \n",
        "  def insert(self,root,data):\n",
        "    if root==None:\n",
        "      nodeInstance = nodes(data)\n",
        "      self.head = nodeInstance\n",
        "    elif root.next==None:\n",
        "      nodeInstance = nodes(data)\n",
        "      root.next = nodeInstance\n",
        "    else:\n",
        "      self.insert(root.next,data)\n",
        "  \n",
        "  def display(self):\n",
        "    p = self.head\n",
        "    while p!=None:\n",
        "      print(p.data)\n",
        "      p = p.next"
      ],
      "execution_count": 0,
      "outputs": []
    },
    {
      "cell_type": "code",
      "metadata": {
        "id": "Z_3ryF2r2KXN",
        "colab_type": "code",
        "colab": {}
      },
      "source": [
        "li = linkedList()"
      ],
      "execution_count": 0,
      "outputs": []
    },
    {
      "cell_type": "code",
      "metadata": {
        "id": "q0K0X_Rk2Muk",
        "colab_type": "code",
        "colab": {}
      },
      "source": [
        "for i in range(5):\n",
        "  li.insert(li.head,i)"
      ],
      "execution_count": 0,
      "outputs": []
    },
    {
      "cell_type": "code",
      "metadata": {
        "id": "JyGis78-2Q3s",
        "colab_type": "code",
        "outputId": "497ba33d-0e7b-4b79-ae48-e07eb4b61ef1",
        "colab": {
          "base_uri": "https://localhost:8080/",
          "height": 102
        }
      },
      "source": [
        "li.display()"
      ],
      "execution_count": 0,
      "outputs": [
        {
          "output_type": "stream",
          "text": [
            "0\n",
            "1\n",
            "2\n",
            "3\n",
            "4\n"
          ],
          "name": "stdout"
        }
      ]
    },
    {
      "cell_type": "code",
      "metadata": {
        "id": "oI-X5E032WiM",
        "colab_type": "code",
        "colab": {}
      },
      "source": [
        ""
      ],
      "execution_count": 0,
      "outputs": []
    }
  ]
}