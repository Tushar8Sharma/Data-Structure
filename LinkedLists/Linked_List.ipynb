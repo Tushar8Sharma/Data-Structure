{
  "nbformat": 4,
  "nbformat_minor": 0,
  "metadata": {
    "colab": {
      "name": "Linked List",
      "provenance": [],
      "collapsed_sections": []
    },
    "kernelspec": {
      "name": "python3",
      "display_name": "Python 3"
    }
  },
  "cells": [
    {
      "cell_type": "code",
      "metadata": {
        "id": "3no_F7uP_BvD",
        "colab_type": "code",
        "colab": {}
      },
      "source": [
        "class node():\n",
        "  def __init__(self,data):\n",
        "    self.data = data\n",
        "    self.next = None\n",
        "\n",
        "class linked_list():\n",
        "  def __init__(self):\n",
        "    self.head = None\n",
        "    self.count = 0\n",
        "  \n",
        "  def insert_end(self,data):\n",
        "    x = node(data)\n",
        "    self.count += 1\n",
        "    if(self.head == None):\n",
        "      self.head = x\n",
        "    else:\n",
        "      p = self.head\n",
        "      while(p.next):\n",
        "        p = p.next\n",
        "      p.next = x\n",
        "  \n",
        "  def insert_beg(self,data):\n",
        "    x = node(data)\n",
        "    self.count += 1\n",
        "    if(self.head==None):\n",
        "      self.head = x\n",
        "    else:\n",
        "      temp = self.head\n",
        "      x.next = temp\n",
        "      self.head = x\n",
        "  \n",
        "  def delete_beg(self):\n",
        "    print(self.head.data,'deleted')\n",
        "    self.head = self.head.next\n",
        "  \n",
        "  def delete_end(self):\n",
        "    p = self.head\n",
        "    while p.next.next:\n",
        "      p = p.next\n",
        "    print(p.next.data,'deleted')\n",
        "    p.next = None\n",
        "  \n",
        "  def display(self):\n",
        "    p = self.head\n",
        "    while(p.next):\n",
        "      print(p.data)\n",
        "      p = p.next\n",
        "    print(p.data)"
      ],
      "execution_count": 0,
      "outputs": []
    },
    {
      "cell_type": "code",
      "metadata": {
        "id": "4IH6UFVhApcu",
        "colab_type": "code",
        "colab": {}
      },
      "source": [
        "li = linked_list()"
      ],
      "execution_count": 0,
      "outputs": []
    },
    {
      "cell_type": "code",
      "metadata": {
        "id": "S2HTt4VeAzFe",
        "colab_type": "code",
        "outputId": "ade569bd-07cd-4239-d2a3-c6b2899824b5",
        "colab": {
          "base_uri": "https://localhost:8080/",
          "height": 70
        }
      },
      "source": [
        "li.insert_end(2)\n",
        "li.insert_beg(3)\n",
        "li.insert_end(4)\n",
        "li.display()"
      ],
      "execution_count": 0,
      "outputs": [
        {
          "output_type": "stream",
          "text": [
            "3\n",
            "2\n",
            "4\n"
          ],
          "name": "stdout"
        }
      ]
    },
    {
      "cell_type": "code",
      "metadata": {
        "id": "nD10DnkqA6do",
        "colab_type": "code",
        "outputId": "43178ad8-338a-4cfe-e698-64a8ac69f82b",
        "colab": {
          "base_uri": "https://localhost:8080/",
          "height": 70
        }
      },
      "source": [
        "li.delete_beg()\n",
        "li.delete_end()\n",
        "li.display()"
      ],
      "execution_count": 0,
      "outputs": [
        {
          "output_type": "stream",
          "text": [
            "3 deleted\n",
            "4 deleted\n",
            "2\n"
          ],
          "name": "stdout"
        }
      ]
    },
    {
      "cell_type": "code",
      "metadata": {
        "id": "RCtMalw5Gj7x",
        "colab_type": "code",
        "colab": {}
      },
      "source": [
        ""
      ],
      "execution_count": 0,
      "outputs": []
    }
  ]
}