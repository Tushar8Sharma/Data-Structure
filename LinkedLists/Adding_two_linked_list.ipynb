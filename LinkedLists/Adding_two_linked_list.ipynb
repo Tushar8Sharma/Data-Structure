{
  "nbformat": 4,
  "nbformat_minor": 0,
  "metadata": {
    "colab": {
      "name": "Adding two linked list",
      "provenance": [],
      "collapsed_sections": []
    },
    "kernelspec": {
      "name": "python3",
      "display_name": "Python 3"
    }
  },
  "cells": [
    {
      "cell_type": "code",
      "metadata": {
        "id": "5GoIC5_BAzbT",
        "colab_type": "code",
        "colab": {}
      },
      "source": [
        "class nodes:\n",
        "  def __init__(self,data):\n",
        "    self.data = data\n",
        "    self.next = None\n",
        "  \n",
        "class linked:\n",
        "  def __init__(self):\n",
        "    self.head1  = None\n",
        "    self.head2  = None\n",
        "    self.head3  = None\n",
        "    self.head4  = None\n",
        "    self.count1 = 0\n",
        "    self.count2 = 0\n",
        "  \n",
        "  def process(self,data1,data2):\n",
        "    while(data1>0):\n",
        "      rem   = data1%10\n",
        "      data1 = int(data1/10)\n",
        "      nodeInstance = nodes(rem)\n",
        "      self.count1  += 1\n",
        "      if(self.head1==None):\n",
        "        self.head1 = nodeInstance\n",
        "      else:\n",
        "        p = self.head1\n",
        "        while(p.next):\n",
        "          p=p.next\n",
        "        p.next = nodeInstance\n",
        "    while(data2>0):\n",
        "      rem   = data2%10\n",
        "      data2 = int(data2/10)\n",
        "      nodeInstance = nodes(rem)\n",
        "      self.count2  += 1\n",
        "      if(self.head2==None):\n",
        "        self.head2 = nodeInstance\n",
        "      else:\n",
        "        p = self.head2\n",
        "        while(p.next):\n",
        "          p=p.next\n",
        "        p.next = nodeInstance\n",
        "\n",
        "  def add(self):\n",
        "    p = self.head1\n",
        "    q = self.head2\n",
        "    # print(self.head2.data)\n",
        "    temp = 0\n",
        "    while p.next and q.next:\n",
        "      sum = p.data + q.data + temp\n",
        "      if sum>=10:\n",
        "        sum  = sum%10\n",
        "        temp = 1\n",
        "      else:\n",
        "        temp = 0\n",
        "      nodeInstance = nodes(sum)\n",
        "      if self.head3 is None:\n",
        "        self.head3 = nodeInstance\n",
        "      else:\n",
        "        k=self.head3\n",
        "        while k.next:\n",
        "          k=k.next\n",
        "        k.next = nodeInstance\n",
        "      p = p.next\n",
        "      q = q.next\n",
        "    if p.data and q.data:\n",
        "      sum = p.data + q.data + temp\n",
        "      if sum>=10:\n",
        "        sum  = sum%10\n",
        "        temp = 1\n",
        "      else:\n",
        "        temp = 0\n",
        "      nodeInstance = nodes(sum)\n",
        "      if self.head3 is None:\n",
        "        self.head3 = nodeInstance\n",
        "      else:\n",
        "        k=self.head3\n",
        "        while k.next:\n",
        "          k=k.next\n",
        "        k.next = nodeInstance\n",
        "      p = p.next\n",
        "      q = q.next\n",
        "    try:\n",
        "      if p.data:\n",
        "        sum = p.data + temp\n",
        "        while(p.next):\n",
        "          if(sum>=10):\n",
        "            sum = sum%10\n",
        "            temp = 1\n",
        "          else:\n",
        "            temp = 0\n",
        "          nodeInstance = nodes(sum)\n",
        "          if self.head3 is None:\n",
        "            self.head3 = nodeInstance\n",
        "          else:\n",
        "            k=self.head3\n",
        "            while k.next:\n",
        "              k=k.next\n",
        "            k.next = nodeInstance\n",
        "          p= p.next\n",
        "          sum = p.data + temp  \n",
        "        nodeInstance = nodes(sum)\n",
        "        if self.head3 is None:\n",
        "          self.head3 = nodeInstance\n",
        "        else:\n",
        "          k=self.head3\n",
        "          while k.next:\n",
        "            k=k.next\n",
        "          k.next = nodeInstance \n",
        "      if q.data:\n",
        "        sum = q.data + temp\n",
        "        while(q.next):\n",
        "          if(sum>=10):\n",
        "            sum = sum%10\n",
        "            temp = 1\n",
        "          else:\n",
        "            temp = 0\n",
        "          nodeInstance = nodes(sum)\n",
        "          if self.head3 is None:\n",
        "            self.head3 = nodeInstance\n",
        "          else:\n",
        "            k=self.head3\n",
        "            while k.next:\n",
        "              k=k.next\n",
        "            k.next = nodeInstance\n",
        "          q= q.next\n",
        "          sum = q.data + temp   \n",
        "        nodeInstance = nodes(sum)\n",
        "        if self.head3 is None:\n",
        "          self.head3 = nodeInstance\n",
        "        else:\n",
        "          k=self.head3\n",
        "          while k.next:\n",
        "            k=k.next\n",
        "          k.next = nodeInstance   \n",
        "    except:\n",
        "      print('ok')\n",
        "  \n",
        "  def reverse(self):\n",
        "    limit = self.count1\n",
        "    while(limit>0):\n",
        "      p = self.head3\n",
        "      q = p\n",
        "      while(p.next):\n",
        "        q = p\n",
        "        p = p.next\n",
        "      q.next = None\n",
        "      if self.head4 == None:\n",
        "        self.head4 = p\n",
        "      else:\n",
        "        q = self.head4\n",
        "        while(q.next):\n",
        "          q = q.next\n",
        "        q.next = p\n",
        "      limit -= 1\n",
        "\n",
        "  def display(self):\n",
        "    p = self.head4\n",
        "    while(p.next):\n",
        "      print(p.data)\n",
        "      p = p.next\n",
        "    print(p.data)"
      ],
      "execution_count": 0,
      "outputs": []
    },
    {
      "cell_type": "code",
      "metadata": {
        "id": "xmvYAFahxMdW",
        "colab_type": "code",
        "outputId": "95b731db-212e-47c6-cb33-6a97783115c0",
        "colab": {
          "base_uri": "https://localhost:8080/",
          "height": 34
        }
      },
      "source": [
        "x = linked()\n",
        "x.process(123,456)\n",
        "x.add()\n",
        "x.reverse()"
      ],
      "execution_count": 0,
      "outputs": [
        {
          "output_type": "stream",
          "text": [
            "ok\n"
          ],
          "name": "stdout"
        }
      ]
    },
    {
      "cell_type": "code",
      "metadata": {
        "id": "_A9jlUKN9RAE",
        "colab_type": "code",
        "outputId": "404d3908-92cf-4485-d002-0beede1a695c",
        "colab": {
          "base_uri": "https://localhost:8080/",
          "height": 68
        }
      },
      "source": [
        "x.display()"
      ],
      "execution_count": 0,
      "outputs": [
        {
          "output_type": "stream",
          "text": [
            "5\n",
            "7\n",
            "9\n"
          ],
          "name": "stdout"
        }
      ]
    },
    {
      "cell_type": "code",
      "metadata": {
        "id": "taTQoYslzzhL",
        "colab_type": "code",
        "colab": {}
      },
      "source": [
        ""
      ],
      "execution_count": 0,
      "outputs": []
    }
  ]
}