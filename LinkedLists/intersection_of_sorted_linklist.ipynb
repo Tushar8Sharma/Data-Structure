{
  "nbformat": 4,
  "nbformat_minor": 0,
  "metadata": {
    "colab": {
      "name": "intersection of sorted linklist",
      "provenance": [],
      "collapsed_sections": []
    },
    "kernelspec": {
      "name": "python3",
      "display_name": "Python 3"
    }
  },
  "cells": [
    {
      "cell_type": "code",
      "metadata": {
        "id": "GYdIXJWxJbRb",
        "colab_type": "code",
        "colab": {}
      },
      "source": [
        "class nodes:\n",
        "  def __init__(self,data):\n",
        "    self.data = data\n",
        "    self.next = None\n",
        "  \n",
        "class linkedList:\n",
        "  def __init__(self):\n",
        "    self.head1 = None\n",
        "    self.head2 = None\n",
        "    self.head3 = None\n",
        "  \n",
        "  def insert1(self,data):\n",
        "    nodeInstance = nodes(data)\n",
        "    if self.head1==None:\n",
        "      self.head1 = nodeInstance\n",
        "    else:\n",
        "      p = self.head1\n",
        "      while(p.next):\n",
        "        p = p.next\n",
        "      p.next= nodeInstance\n",
        "  \n",
        "  def insert2(self,data):\n",
        "    nodeInstance = nodes(data)\n",
        "    if self.head2==None:\n",
        "      self.head2 = nodeInstance\n",
        "    else:\n",
        "      p = self.head2\n",
        "      while(p.next):\n",
        "        p = p.next\n",
        "      p.next= nodeInstance\n",
        "\n",
        "  def intersection(self):\n",
        "    p = self.head1\n",
        "    q = self.head2\n",
        "    while p!=None and q!=None:\n",
        "      if p.data == q.data:\n",
        "        nodeInstance = nodes(p.data)\n",
        "        if self.head3 == None:\n",
        "          self.head3 = nodeInstance\n",
        "        else:\n",
        "          k = self.head3\n",
        "          while k.next:\n",
        "            k = k.next\n",
        "          k.next = nodeInstance\n",
        "        p=p.next\n",
        "        q=q.next\n",
        "      elif p.data<q.data:\n",
        "        p = p.next\n",
        "      elif q.data<p.data:\n",
        "        q = q.next\n",
        "  \n",
        "  def display(self):\n",
        "    print('1st linklist')\n",
        "    p = self.head1\n",
        "    while p != None:\n",
        "      print(p.data)\n",
        "      p = p.next\n",
        "    print('2nd linklist')\n",
        "    p = self.head2\n",
        "    while p != None:\n",
        "      print(p.data)\n",
        "      p = p.next\n",
        "    print('3nd linklist')\n",
        "    p = self.head3\n",
        "    while p != None:\n",
        "      print(p.data)\n",
        "      p = p.next"
      ],
      "execution_count": 0,
      "outputs": []
    },
    {
      "cell_type": "code",
      "metadata": {
        "id": "ib2S0pELNHmA",
        "colab_type": "code",
        "colab": {}
      },
      "source": [
        "li = linkedList()\n",
        "for i in range(5):\n",
        "  li.insert1(i)\n",
        "for i in range(1,7):\n",
        "  li.insert2(i)\n",
        "li.intersection()"
      ],
      "execution_count": 0,
      "outputs": []
    },
    {
      "cell_type": "code",
      "metadata": {
        "id": "sn8GP-NANcfW",
        "colab_type": "code",
        "colab": {
          "base_uri": "https://localhost:8080/",
          "height": 334
        },
        "outputId": "4ef64e15-a843-454b-c04b-a001de10a6da"
      },
      "source": [
        "li.display()"
      ],
      "execution_count": 12,
      "outputs": [
        {
          "output_type": "stream",
          "text": [
            "1st linklist\n",
            "0\n",
            "1\n",
            "2\n",
            "3\n",
            "4\n",
            "2nd linklist\n",
            "1\n",
            "2\n",
            "3\n",
            "4\n",
            "5\n",
            "6\n",
            "3nd linklist\n",
            "1\n",
            "2\n",
            "3\n",
            "4\n"
          ],
          "name": "stdout"
        }
      ]
    },
    {
      "cell_type": "code",
      "metadata": {
        "id": "QOC1zNn-N5II",
        "colab_type": "code",
        "colab": {}
      },
      "source": [
        ""
      ],
      "execution_count": 0,
      "outputs": []
    }
  ]
}