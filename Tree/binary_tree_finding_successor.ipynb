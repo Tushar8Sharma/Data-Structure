{
  "nbformat": 4,
  "nbformat_minor": 0,
  "metadata": {
    "colab": {
      "name": "binary tree finding successor",
      "provenance": [],
      "collapsed_sections": []
    },
    "kernelspec": {
      "name": "python3",
      "display_name": "Python 3"
    }
  },
  "cells": [
    {
      "cell_type": "code",
      "metadata": {
        "id": "QNiLCR0lqaOW",
        "colab_type": "code",
        "colab": {}
      },
      "source": [
        "class Node:\n",
        "  def __init__(self,data):\n",
        "    self.data  = data\n",
        "    self.left  = None\n",
        "    self.right = None\n",
        "  \n",
        "class BinaryTree:\n",
        "  def __init__(self):\n",
        "    self.root = None\n",
        "  \n",
        "  def insert(self,data):\n",
        "    nodeInstance = Node(data)\n",
        "    if self.root==None:\n",
        "      self.root = nodeInstance\n",
        "    else:\n",
        "      root = self.root\n",
        "      preRoot = root\n",
        "      while root!=None:\n",
        "        if root.data>nodeInstance.data:\n",
        "          preRoot = root\n",
        "          root = root.left\n",
        "        else:\n",
        "          preRoot = root\n",
        "          root = root.right\n",
        "      \n",
        "      if preRoot.data>nodeInstance.data:\n",
        "        preRoot.left = nodeInstance\n",
        "      else:\n",
        "        preRoot.right = nodeInstance\n",
        "  \n",
        "  def inOrder(self,root):\n",
        "    if root!=None:\n",
        "      if root.left:\n",
        "        self.inOrder(root.left)\n",
        "      print(root.data)\n",
        "      if(root.right):\n",
        "        self.inOrder(root.right)\n",
        "  \n",
        "  def deletion(self,root,data):\n",
        "    if root == None:\n",
        "      return root\n",
        "    if data<root.data:\n",
        "      self.deletion(root.left,data)\n",
        "    elif data>root.data:\n",
        "      self.deletion(root.right,data)\n",
        "    else:\n",
        "      if root.left==None:\n",
        "        temp = root.right\n",
        "        root = None\n",
        "        return temp\n",
        "      elif root.right == None:\n",
        "        temp = root.left\n",
        "        root = None\n",
        "        return temp\n",
        "      temp = self.minValue(root.right)\n",
        "      root.data = temp.data\n",
        "      root.data = self.deletion(root.right,temp.data)\n",
        "    return root\n",
        "\n",
        "  def minValue(self,root):\n",
        "    while root.left:\n",
        "      root = root.left\n",
        "    return root\n",
        "\n",
        "  # def deletion(self,preRoot,root,data):\n",
        "  #   if root != None:\n",
        "  #     if data<root.data:\n",
        "  #       preRoot = root\n",
        "  #       self.deletion(preRoot,root.left,data)\n",
        "  #     elif data>root.data:\n",
        "  #       preRoot = root\n",
        "  #       self.deletion(preRoot,root.right,data)\n",
        "  #     else:\n",
        "  #       p = root\n",
        "  #       q = p\n",
        "  #       while p.left or p.right:\n",
        "  #         if p.right:\n",
        "  #           q = p\n",
        "  #           p = p.right\n",
        "  #         else:\n",
        "  #           q = p\n",
        "  #           p = p.left\n",
        "  #       root.data = p.data\n",
        "  #       if q.left:\n",
        "  #         q.left = None\n",
        "  #       else:\n",
        "  #         q.right = None\n",
        "  #   else:\n",
        "  #     print('no such data')\n",
        "\n",
        "  def successor(self,root,data):\n",
        "    if root!=None:\n",
        "      if root.data>data:\n",
        "        self.successor(root.left,data)\n",
        "      elif root.data<data:\n",
        "        self.successor(root.right,data)\n",
        "      else:\n",
        "        if root.right:\n",
        "          self.inOrderSuccessor(root.right)\n",
        "        else:\n",
        "          print('no successor')\n",
        "    else:\n",
        "      print('no such data')\n",
        "\n",
        "  def inOrderSuccessor(self,root):\n",
        "    if root.left:\n",
        "      self.findSuccessor(root.left)\n",
        "    else:\n",
        "      print('The successor is ' + str(root.data))"
      ],
      "execution_count": 0,
      "outputs": []
    },
    {
      "cell_type": "code",
      "metadata": {
        "id": "8c9bbUA1zyMZ",
        "colab_type": "code",
        "colab": {}
      },
      "source": [
        "bi = BinaryTree()"
      ],
      "execution_count": 0,
      "outputs": []
    },
    {
      "cell_type": "code",
      "metadata": {
        "id": "4dR0IQMTz8y-",
        "colab_type": "code",
        "colab": {}
      },
      "source": [
        "for i in range(5):\n",
        "  bi.insert(i)"
      ],
      "execution_count": 0,
      "outputs": []
    },
    {
      "cell_type": "code",
      "metadata": {
        "id": "1UkQQywu0DGm",
        "colab_type": "code",
        "outputId": "8e31bf68-615f-4434-b9cc-b4cbb1b22f29",
        "colab": {
          "base_uri": "https://localhost:8080/",
          "height": 102
        }
      },
      "source": [
        "bi.inOrder(bi.root)"
      ],
      "execution_count": 0,
      "outputs": [
        {
          "output_type": "stream",
          "text": [
            "0\n",
            "1\n",
            "2\n",
            "3\n",
            "4\n"
          ],
          "name": "stdout"
        }
      ]
    },
    {
      "cell_type": "code",
      "metadata": {
        "id": "Qlo0m4Ps-anJ",
        "colab_type": "code",
        "outputId": "51a797ff-5054-4c76-9e15-a97ae59b6f53",
        "colab": {
          "base_uri": "https://localhost:8080/",
          "height": 34
        }
      },
      "source": [
        "bi.successor(bi.root,0)"
      ],
      "execution_count": 0,
      "outputs": [
        {
          "output_type": "stream",
          "text": [
            "The successor is 1\n"
          ],
          "name": "stdout"
        }
      ]
    },
    {
      "cell_type": "code",
      "metadata": {
        "id": "v4WLrRDA-akJ",
        "colab_type": "code",
        "outputId": "f8024219-8c6e-46e5-8aba-e124c0a75bb2",
        "colab": {
          "base_uri": "https://localhost:8080/",
          "height": 34
        }
      },
      "source": [
        "bi.successor(bi.root,2)"
      ],
      "execution_count": 0,
      "outputs": [
        {
          "output_type": "stream",
          "text": [
            "The successor is 3\n"
          ],
          "name": "stdout"
        }
      ]
    },
    {
      "cell_type": "code",
      "metadata": {
        "id": "p6FJp5n7-3oN",
        "colab_type": "code",
        "outputId": "a6b62f0f-1965-4b08-c978-2c6a6cb44ba3",
        "colab": {
          "base_uri": "https://localhost:8080/",
          "height": 34
        }
      },
      "source": [
        "bi.successor(bi.root,4)"
      ],
      "execution_count": 0,
      "outputs": [
        {
          "output_type": "stream",
          "text": [
            "no successor\n"
          ],
          "name": "stdout"
        }
      ]
    },
    {
      "cell_type": "code",
      "metadata": {
        "id": "nkPVyHUL0GL-",
        "colab_type": "code",
        "colab": {}
      },
      "source": [
        "bi.root = bi.deletion(bi.root,3)"
      ],
      "execution_count": 0,
      "outputs": []
    },
    {
      "cell_type": "code",
      "metadata": {
        "id": "RNsyJs6X0JEV",
        "colab_type": "code",
        "outputId": "0cd20be0-c358-41f8-b2c2-4ef9bd1d50d0",
        "colab": {
          "base_uri": "https://localhost:8080/",
          "height": 102
        }
      },
      "source": [
        "bi.inOrder(bi.root)"
      ],
      "execution_count": 0,
      "outputs": [
        {
          "output_type": "stream",
          "text": [
            "0\n",
            "1\n",
            "2\n",
            "3\n",
            "4\n"
          ],
          "name": "stdout"
        }
      ]
    },
    {
      "cell_type": "code",
      "metadata": {
        "id": "W0J2NitU0RFG",
        "colab_type": "code",
        "colab": {}
      },
      "source": [
        "bi.root = bi.deletion(bi.root,0)"
      ],
      "execution_count": 0,
      "outputs": []
    },
    {
      "cell_type": "code",
      "metadata": {
        "id": "7w9cDarZ0UTe",
        "colab_type": "code",
        "outputId": "d7dda907-4816-41be-f7f2-710bf6f3fb98",
        "colab": {
          "base_uri": "https://localhost:8080/",
          "height": 85
        }
      },
      "source": [
        "bi.inOrder(bi.root)"
      ],
      "execution_count": 0,
      "outputs": [
        {
          "output_type": "stream",
          "text": [
            "1\n",
            "2\n",
            "3\n",
            "4\n"
          ],
          "name": "stdout"
        }
      ]
    },
    {
      "cell_type": "code",
      "metadata": {
        "id": "bpTzWS8O0XJ2",
        "colab_type": "code",
        "colab": {}
      },
      "source": [
        "bi.root = bi.deletion(bi.root,5)"
      ],
      "execution_count": 0,
      "outputs": []
    },
    {
      "cell_type": "code",
      "metadata": {
        "id": "4bn0G8QP0kfs",
        "colab_type": "code",
        "outputId": "255f2b7d-5901-47f4-8926-427e97940327",
        "colab": {
          "base_uri": "https://localhost:8080/",
          "height": 85
        }
      },
      "source": [
        "bi.inOrder(bi.root)"
      ],
      "execution_count": 0,
      "outputs": [
        {
          "output_type": "stream",
          "text": [
            "1\n",
            "2\n",
            "3\n",
            "4\n"
          ],
          "name": "stdout"
        }
      ]
    },
    {
      "cell_type": "code",
      "metadata": {
        "id": "E_kgnX-tcp6S",
        "colab_type": "code",
        "colab": {}
      },
      "source": [
        "bi.root = bi.deletion(bi.root,2)"
      ],
      "execution_count": 0,
      "outputs": []
    },
    {
      "cell_type": "code",
      "metadata": {
        "id": "tWT39IIqcwYP",
        "colab_type": "code",
        "outputId": "2117484e-be04-4e4c-c3b9-e691824f41b9",
        "colab": {
          "base_uri": "https://localhost:8080/",
          "height": 85
        }
      },
      "source": [
        "bi.inOrder(bi.root)"
      ],
      "execution_count": 0,
      "outputs": [
        {
          "output_type": "stream",
          "text": [
            "1\n",
            "2\n",
            "3\n",
            "4\n"
          ],
          "name": "stdout"
        }
      ]
    },
    {
      "cell_type": "code",
      "metadata": {
        "id": "uxPMjB6Vcy1O",
        "colab_type": "code",
        "colab": {}
      },
      "source": [
        ""
      ],
      "execution_count": 0,
      "outputs": []
    }
  ]
}