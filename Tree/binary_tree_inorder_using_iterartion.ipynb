{
  "nbformat": 4,
  "nbformat_minor": 0,
  "metadata": {
    "colab": {
      "name": "binary tree inorder using iterartion",
      "provenance": [],
      "collapsed_sections": []
    },
    "kernelspec": {
      "name": "python3",
      "display_name": "Python 3"
    }
  },
  "cells": [
    {
      "cell_type": "code",
      "metadata": {
        "id": "UUyMY-t-c1j0",
        "colab_type": "code",
        "colab": {}
      },
      "source": [
        "class Node:\n",
        "  def __init__(self,data):\n",
        "    self.data  = data\n",
        "    self.left  = None\n",
        "    self.right = None\n",
        "  \n",
        "class binaryTree:\n",
        "  def __init__(self):\n",
        "    self.root = None\n",
        "\n",
        "  def insertUsingRecursion(self,root,data):\n",
        "    if root is None:\n",
        "      nodeInstance = Node(data)\n",
        "      return nodeInstance\n",
        "    elif data > root.data:\n",
        "      root.right = self.insertUsingRecursion(root.right,data)\n",
        "    elif data < root.data:\n",
        "      root.left = self.insertUsingRecursion(root.left,data)\n",
        "    else:\n",
        "      return root\n",
        "\n",
        "    return root\n",
        "      \n",
        "  def inOrder(self,root):\n",
        "    if root!=None:\n",
        "      if root.left:\n",
        "        self.inOrder(root.left)\n",
        "      print(root.data)\n",
        "      if root.right:\n",
        "        self.inOrder(root.right) \n",
        "      \n",
        "  def inOrderUsingIteration(self,root):\n",
        "    arr = []\n",
        "    while(1):\n",
        "      if root:\n",
        "        arr.append(root);\n",
        "        root = root.left\n",
        "      elif not arr:\n",
        "        break\n",
        "      else:\n",
        "        root = arr.pop()\n",
        "        print(root.data)\n",
        "        root = root.right"
      ],
      "execution_count": 0,
      "outputs": []
    },
    {
      "cell_type": "code",
      "metadata": {
        "id": "ILjEswX7dT8m",
        "colab_type": "code",
        "colab": {}
      },
      "source": [
        "bi = binaryTree()"
      ],
      "execution_count": 0,
      "outputs": []
    },
    {
      "cell_type": "code",
      "metadata": {
        "id": "4KA528BydXN-",
        "colab_type": "code",
        "colab": {}
      },
      "source": [
        "bi.root = bi.insertUsingRecursion(bi.root,1)\n",
        "bi.root = bi.insertUsingRecursion(bi.root,2)\n",
        "bi.root = bi.insertUsingRecursion(bi.root,0)\n",
        "bi.root = bi.insertUsingRecursion(bi.root,-1)\n",
        "bi.root = bi.insertUsingRecursion(bi.root,-2)\n",
        "bi.root = bi.insertUsingRecursion(bi.root,3)"
      ],
      "execution_count": 0,
      "outputs": []
    },
    {
      "cell_type": "code",
      "metadata": {
        "id": "2aUH0XfrddDd",
        "colab_type": "code",
        "outputId": "4c71572a-467a-4053-b598-d5ad6cc1ba3b",
        "colab": {
          "base_uri": "https://localhost:8080/",
          "height": 119
        }
      },
      "source": [
        "bi.inOrder(bi.root)"
      ],
      "execution_count": 0,
      "outputs": [
        {
          "output_type": "stream",
          "text": [
            "-2\n",
            "-1\n",
            "0\n",
            "1\n",
            "2\n",
            "3\n"
          ],
          "name": "stdout"
        }
      ]
    },
    {
      "cell_type": "code",
      "metadata": {
        "id": "r22d68QJdlQU",
        "colab_type": "code",
        "outputId": "da1178a2-752a-4d07-e896-74a7b633f117",
        "colab": {
          "base_uri": "https://localhost:8080/",
          "height": 119
        }
      },
      "source": [
        "bi.inOrderUsingIteration(bi.root)"
      ],
      "execution_count": 0,
      "outputs": [
        {
          "output_type": "stream",
          "text": [
            "-2\n",
            "-1\n",
            "0\n",
            "1\n",
            "2\n",
            "3\n"
          ],
          "name": "stdout"
        }
      ]
    },
    {
      "cell_type": "code",
      "metadata": {
        "id": "vI16r913sQDK",
        "colab_type": "code",
        "colab": {}
      },
      "source": [
        ""
      ],
      "execution_count": 0,
      "outputs": []
    }
  ]
}