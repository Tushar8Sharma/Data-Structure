{
  "nbformat": 4,
  "nbformat_minor": 0,
  "metadata": {
    "colab": {
      "name": "replacing the node with the sum of their successor and predecessor",
      "provenance": [],
      "collapsed_sections": []
    },
    "kernelspec": {
      "name": "python3",
      "display_name": "Python 3"
    }
  },
  "cells": [
    {
      "cell_type": "code",
      "metadata": {
        "id": "vA5hlKPwdcC5",
        "colab_type": "code",
        "colab": {}
      },
      "source": [
        "class nodes:\n",
        "  def __init__(self,data):\n",
        "    self.data  = data\n",
        "    self.left  = None\n",
        "    self.right = None\n",
        "  \n",
        "class binary:\n",
        "  def __init__(self):\n",
        "    self.root = None\n",
        "    self.arr  = []\n",
        "    self.flag = 0\n",
        "    self.root1 = None\n",
        "\n",
        "  def insert(self,root,data):\n",
        "    nodeInstance = nodes(data)\n",
        "    if root==None:\n",
        "      root=nodeInstance\n",
        "      return root\n",
        "    elif nodeInstance.data < root.data: \n",
        "      root.left = self.insert(root.left,data)\n",
        "    elif nodeInstance.data > root.data:\n",
        "      root.right = self.insert(root.right,data)\n",
        "    else:\n",
        "      return root\n",
        "    return root\n",
        "\n",
        "\n",
        "  def inOrder(self,root):\n",
        "    if root!=None:\n",
        "      if root.left:\n",
        "        self.inOrder(root.left)\n",
        "      if self.flag==0:\n",
        "        print(root.data)\n",
        "      self.arr.append(root.data)\n",
        "      if root.right:\n",
        "        self.inOrder(root.right)\n",
        "\n",
        "  def replace(self):\n",
        "    self.flag = 1\n",
        "    self.arr = []\n",
        "    self.inOrder(self.root)\n",
        "    arr = []\n",
        "    for i in range(len(self.arr)):\n",
        "      if i==0:\n",
        "        arr.append(self.arr[i+1])\n",
        "      elif i == len(self.arr)-1:\n",
        "        arr.append(self.arr[i-1])\n",
        "      else:\n",
        "        arr.append(self.arr[i-1]+self.arr[i+1])\n",
        "    self.root = None\n",
        "    for i in arr:\n",
        "      self.root = self.insert(self.root,i)\n",
        "    self.flag=0"
      ],
      "execution_count": 0,
      "outputs": []
    },
    {
      "cell_type": "code",
      "metadata": {
        "id": "dllItwnvB2aS",
        "colab_type": "code",
        "colab": {}
      },
      "source": [
        "bi = binary()"
      ],
      "execution_count": 0,
      "outputs": []
    },
    {
      "cell_type": "code",
      "metadata": {
        "id": "xhQvHjM5MJHV",
        "colab_type": "code",
        "colab": {}
      },
      "source": [
        "for i in range(1,8):\n",
        "  bi.root = bi.insert(bi.root,i)"
      ],
      "execution_count": 0,
      "outputs": []
    },
    {
      "cell_type": "code",
      "metadata": {
        "id": "OVHz9vXaMXkc",
        "colab_type": "code",
        "outputId": "3db72b76-b841-435c-958f-18927e651a47",
        "colab": {
          "base_uri": "https://localhost:8080/",
          "height": 140
        }
      },
      "source": [
        "bi.inOrder(bi.root)"
      ],
      "execution_count": 0,
      "outputs": [
        {
          "output_type": "stream",
          "text": [
            "1\n",
            "2\n",
            "3\n",
            "4\n",
            "5\n",
            "6\n",
            "7\n"
          ],
          "name": "stdout"
        }
      ]
    },
    {
      "cell_type": "code",
      "metadata": {
        "id": "MvXe8JFvREG4",
        "colab_type": "code",
        "colab": {}
      },
      "source": [
        "bi.replace()"
      ],
      "execution_count": 0,
      "outputs": []
    },
    {
      "cell_type": "code",
      "metadata": {
        "id": "r7cme9x8VP7w",
        "colab_type": "code",
        "outputId": "cfcff9c8-fe10-45eb-9284-bf7773a222ef",
        "colab": {
          "base_uri": "https://localhost:8080/",
          "height": 122
        }
      },
      "source": [
        "bi.inOrder(bi.root)"
      ],
      "execution_count": 0,
      "outputs": [
        {
          "output_type": "stream",
          "text": [
            "2\n",
            "4\n",
            "6\n",
            "8\n",
            "10\n",
            "12\n"
          ],
          "name": "stdout"
        }
      ]
    },
    {
      "cell_type": "code",
      "metadata": {
        "id": "qb5Y8qhGct5I",
        "colab_type": "code",
        "colab": {}
      },
      "source": [
        ""
      ],
      "execution_count": 0,
      "outputs": []
    }
  ]
}