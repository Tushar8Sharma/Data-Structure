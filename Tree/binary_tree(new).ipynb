{
  "nbformat": 4,
  "nbformat_minor": 0,
  "metadata": {
    "colab": {
      "name": "binary tree(new)",
      "provenance": [],
      "collapsed_sections": []
    },
    "kernelspec": {
      "name": "python3",
      "display_name": "Python 3"
    }
  },
  "cells": [
    {
      "cell_type": "code",
      "metadata": {
        "id": "y0fbfyXmAtYP",
        "colab_type": "code",
        "colab": {}
      },
      "source": [
        "class nodes:\n",
        "  def __init__(self,data):\n",
        "    self.data  = data\n",
        "    self.left  = None\n",
        "    self.right = None\n",
        "  \n",
        "class binaryTree:\n",
        "  def __init__(self):\n",
        "    self.root = None\n",
        "  \n",
        "  def insert(self,data):\n",
        "    nodeInstance = nodes(data)\n",
        "    if self.root==None:\n",
        "      self.root = nodeInstance\n",
        "    else:\n",
        "      root = self.root\n",
        "      preRoot = root\n",
        "      while root!=None:\n",
        "        if nodeInstance.data>root.data:\n",
        "          preRoot = root\n",
        "          root = root.right\n",
        "        else:\n",
        "          preRoot = root\n",
        "          root = root.left\n",
        "          \n",
        "      if nodeInstance.data>preRoot.data:\n",
        "        preRoot.right = nodeInstance\n",
        "      else:\n",
        "        preRoot.left  = nodeInstance\n",
        "  \n",
        "  def preOrder(self,root):\n",
        "    if root!=None:\n",
        "      print(root.data)\n",
        "      if root.left:\n",
        "        self.preOrder(root.left)\n",
        "      if root.right:\n",
        "        self.preOrder(root.right)\n",
        "      \n",
        "  def inOrder(self,root):\n",
        "    if root!=None:\n",
        "      if root.left:\n",
        "        self.inOrder(root.left)\n",
        "      print(root.data)\n",
        "      if root.right:\n",
        "        self.inOrder(root.right) \n",
        "\n",
        "  def postOrder(self,root):\n",
        "    if root!=None:\n",
        "      if root.left:\n",
        "        self.postOrder(root.left)\n",
        "      if root.right:\n",
        "        self.postOrder(root.right) \n",
        "      print(root.data)"
      ],
      "execution_count": 0,
      "outputs": []
    },
    {
      "cell_type": "code",
      "metadata": {
        "id": "J3Ar9aw3D6ui",
        "colab_type": "code",
        "colab": {}
      },
      "source": [
        "bi = binaryTree()"
      ],
      "execution_count": 0,
      "outputs": []
    },
    {
      "cell_type": "code",
      "metadata": {
        "id": "Jn3VbN7hD-Ij",
        "colab_type": "code",
        "colab": {}
      },
      "source": [
        "bi.insert(1)\n",
        "bi.insert(2)\n",
        "bi.insert(0)\n",
        "bi.insert(-1)\n",
        "bi.insert(-2)\n",
        "bi.insert(3)"
      ],
      "execution_count": 0,
      "outputs": []
    },
    {
      "cell_type": "code",
      "metadata": {
        "id": "Tphhz3atEGIZ",
        "colab_type": "code",
        "outputId": "627169bd-6086-4853-ff60-afa02104260d",
        "colab": {
          "base_uri": "https://localhost:8080/",
          "height": 119
        }
      },
      "source": [
        "bi.inOrder(bi.root)"
      ],
      "execution_count": 0,
      "outputs": [
        {
          "output_type": "stream",
          "text": [
            "-2\n",
            "-1\n",
            "0\n",
            "1\n",
            "2\n",
            "3\n"
          ],
          "name": "stdout"
        }
      ]
    },
    {
      "cell_type": "code",
      "metadata": {
        "id": "oQqHJq3JEMep",
        "colab_type": "code",
        "outputId": "9a8d53d6-2eae-49b2-c436-b0d2bdee477a",
        "colab": {
          "base_uri": "https://localhost:8080/",
          "height": 119
        }
      },
      "source": [
        "bi.preOrder(bi.root)"
      ],
      "execution_count": 0,
      "outputs": [
        {
          "output_type": "stream",
          "text": [
            "1\n",
            "0\n",
            "-1\n",
            "-2\n",
            "2\n",
            "3\n"
          ],
          "name": "stdout"
        }
      ]
    },
    {
      "cell_type": "code",
      "metadata": {
        "id": "QofXB_0FHZlP",
        "colab_type": "code",
        "outputId": "f5fb2593-0981-4230-b3b4-e4d4e86379a0",
        "colab": {
          "base_uri": "https://localhost:8080/",
          "height": 119
        }
      },
      "source": [
        "bi.postOrder(bi.root)"
      ],
      "execution_count": 0,
      "outputs": [
        {
          "output_type": "stream",
          "text": [
            "-2\n",
            "-1\n",
            "0\n",
            "3\n",
            "2\n",
            "1\n"
          ],
          "name": "stdout"
        }
      ]
    },
    {
      "cell_type": "code",
      "metadata": {
        "id": "nn4MiJDvISvC",
        "colab_type": "code",
        "colab": {}
      },
      "source": [
        ""
      ],
      "execution_count": 0,
      "outputs": []
    }
  ]
}