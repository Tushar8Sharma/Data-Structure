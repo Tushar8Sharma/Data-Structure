{
  "nbformat": 4,
  "nbformat_minor": 0,
  "metadata": {
    "colab": {
      "name": "binary tree",
      "provenance": [],
      "collapsed_sections": []
    },
    "kernelspec": {
      "name": "python3",
      "display_name": "Python 3"
    }
  },
  "cells": [
    {
      "cell_type": "code",
      "metadata": {
        "id": "RZGJM22hXBjj",
        "colab_type": "code",
        "colab": {}
      },
      "source": [
        "class Node:\n",
        "\n",
        "    def __init__(self,data=None):\n",
        "\n",
        "        self.left = None\n",
        "        self.right = None\n",
        "        self.data = data\n",
        "\n",
        "    def insert(self, data):\n",
        "        if self.data:\n",
        "            if data < self.data:\n",
        "                if self.left is None:\n",
        "                    self.left = Node(data)\n",
        "                else:\n",
        "                    self.left.insert(data)\n",
        "            elif data > self.data:\n",
        "                if self.right is None:\n",
        "                    self.right = Node(data)\n",
        "                else:\n",
        "                    self.right.insert(data)\n",
        "        else:\n",
        "            self.data = data\n",
        "\n",
        "    def deletion(self,data):\n",
        "\n",
        "    def display(self):\n",
        "        if self.left:\n",
        "            self.left.display()\n",
        "        print( self.data)\n",
        "        if self.right:\n",
        "            self.right.display()\n"
      ],
      "execution_count": 0,
      "outputs": []
    },
    {
      "cell_type": "code",
      "metadata": {
        "id": "t0Czv5avmTyq",
        "colab_type": "code",
        "outputId": "3612a9ac-5250-4247-c46f-1c0f74e5a48d",
        "colab": {
          "base_uri": "https://localhost:8080/",
          "height": 68
        }
      },
      "source": [
        "root = Node()\n",
        "root.insert(6)\n",
        "root.insert(14)\n",
        "root.insert(3)\n",
        "\n",
        "root.display()"
      ],
      "execution_count": 0,
      "outputs": [
        {
          "output_type": "stream",
          "text": [
            "3\n",
            "6\n",
            "14\n"
          ],
          "name": "stdout"
        }
      ]
    },
    {
      "cell_type": "code",
      "metadata": {
        "id": "P3zHrR2Bmam3",
        "colab_type": "code",
        "colab": {}
      },
      "source": [
        ""
      ],
      "execution_count": 0,
      "outputs": []
    }
  ]
}