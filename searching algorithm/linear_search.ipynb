{
  "nbformat": 4,
  "nbformat_minor": 0,
  "metadata": {
    "colab": {
      "name": "linear_search",
      "provenance": [],
      "collapsed_sections": []
    },
    "kernelspec": {
      "name": "python3",
      "display_name": "Python 3"
    }
  },
  "cells": [
    {
      "cell_type": "code",
      "metadata": {
        "id": "lX_SGVqtR_bB",
        "colab_type": "code",
        "colab": {}
      },
      "source": [
        "class linear_search():\n",
        "  def __init__(self,arr):\n",
        "    self.arr=arr\n",
        "\n",
        "  def lst(self,src):\n",
        "    for i in range(len(self.arr)):\n",
        "      if self.arr[i]==src:\n",
        "        print(str(self.arr[i]) + ' found in the position ' + str(i))"
      ],
      "execution_count": 0,
      "outputs": []
    },
    {
      "cell_type": "code",
      "metadata": {
        "id": "zi5Xi-fdTI66",
        "colab_type": "code",
        "colab": {}
      },
      "source": [
        "arr = [1,2,4,3,9,6,7,8,5]\n",
        "x = linear_search(arr)"
      ],
      "execution_count": 0,
      "outputs": []
    },
    {
      "cell_type": "code",
      "metadata": {
        "id": "EjEjvoCtTShV",
        "colab_type": "code",
        "outputId": "e4e616f1-2a42-4b9f-c1a1-6b93e27f996d",
        "colab": {
          "base_uri": "https://localhost:8080/",
          "height": 34
        }
      },
      "source": [
        "x.lst(4)"
      ],
      "execution_count": 0,
      "outputs": [
        {
          "output_type": "stream",
          "text": [
            "4 found in the position 2\n"
          ],
          "name": "stdout"
        }
      ]
    },
    {
      "cell_type": "code",
      "metadata": {
        "id": "dW_XOU5jTU3b",
        "colab_type": "code",
        "colab": {}
      },
      "source": [
        ""
      ],
      "execution_count": 0,
      "outputs": []
    }
  ]
}