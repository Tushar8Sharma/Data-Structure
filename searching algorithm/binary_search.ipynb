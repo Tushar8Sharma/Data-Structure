{
  "nbformat": 4,
  "nbformat_minor": 0,
  "metadata": {
    "colab": {
      "name": "binary_search",
      "provenance": [],
      "collapsed_sections": []
    },
    "kernelspec": {
      "name": "python3",
      "display_name": "Python 3"
    }
  },
  "cells": [
    {
      "cell_type": "code",
      "metadata": {
        "id": "wYN7fiSZOMKQ",
        "colab_type": "code",
        "colab": {}
      },
      "source": [
        "class binary():\n",
        "  def __init__(self,arr):\n",
        "    self.arr = arr\n",
        "  \n",
        "  def bst(self,src):\n",
        "    high = len(self.arr)\n",
        "    low = 0\n",
        "    while(low<high):\n",
        "      mid = int((low + high)/2)\n",
        "      if(src==self.arr[mid]):\n",
        "        print('element has been founded in position '+ str(mid))\n",
        "        break\n",
        "      elif(src<mid):\n",
        "        high = mid+1\n",
        "      elif(mid<high):\n",
        "        low = mid"
      ],
      "execution_count": 0,
      "outputs": []
    },
    {
      "cell_type": "code",
      "metadata": {
        "id": "bn7TUFnjPocm",
        "colab_type": "code",
        "colab": {}
      },
      "source": [
        "arr = [1,2,3,4,5,6,7,8,9]\n",
        "x = binary(arr)"
      ],
      "execution_count": 0,
      "outputs": []
    },
    {
      "cell_type": "code",
      "metadata": {
        "id": "Y67Z_qCfPurv",
        "colab_type": "code",
        "outputId": "30546aae-1668-4b8e-af36-03a0050e5246",
        "colab": {
          "base_uri": "https://localhost:8080/",
          "height": 34
        }
      },
      "source": [
        "x.bst(3)"
      ],
      "execution_count": 0,
      "outputs": [
        {
          "output_type": "stream",
          "text": [
            "element has been founded in position 2\n"
          ],
          "name": "stdout"
        }
      ]
    },
    {
      "cell_type": "code",
      "metadata": {
        "id": "81Kt3ongPwlv",
        "colab_type": "code",
        "colab": {}
      },
      "source": [
        ""
      ],
      "execution_count": 0,
      "outputs": []
    }
  ]
}