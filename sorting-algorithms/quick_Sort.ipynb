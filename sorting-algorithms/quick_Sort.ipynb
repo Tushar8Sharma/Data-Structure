{
  "nbformat": 4,
  "nbformat_minor": 0,
  "metadata": {
    "colab": {
      "name": "quick_Sort",
      "provenance": []
    },
    "kernelspec": {
      "name": "python3",
      "display_name": "Python 3"
    }
  },
  "cells": [
    {
      "cell_type": "code",
      "metadata": {
        "id": "ByHYRj8hI_QM",
        "colab_type": "code",
        "colab": {}
      },
      "source": [
        "class quickSort():\n",
        "  def __init__(self,arr):\n",
        "    self.arr=arr\n",
        "\n",
        "  def partition(self,q,r):\n",
        "    x=self.arr[r]\n",
        "    i=q-1\n",
        "    for j in range(q,r):\n",
        "      if arr[j]<=x:\n",
        "        i=i+1\n",
        "        temp=arr[i]\n",
        "        arr[i]=arr[j]\n",
        "        arr[j]=temp\n",
        "    i+=1\n",
        "    temp=arr[i]\n",
        "    arr[i]=arr[r]\n",
        "    arr[r]=temp\n",
        "    return i\n",
        "\n",
        "  def quick_sort(self,low,high):\n",
        "    if(low<high):\n",
        "      q=self.partition(low,high)\n",
        "      self.quick_sort(low,q-1)\n",
        "      self.quick_sort(q+1,high)\n",
        "    print(arr)"
      ],
      "execution_count": 0,
      "outputs": []
    },
    {
      "cell_type": "code",
      "metadata": {
        "id": "bcpSDT9yMjdw",
        "colab_type": "code",
        "colab": {}
      },
      "source": [
        "arr = [9,8,7,6,5,4,3,2,1]\n",
        "low=0\n",
        "n=len(arr)"
      ],
      "execution_count": 0,
      "outputs": []
    },
    {
      "cell_type": "code",
      "metadata": {
        "id": "SSJF-NVgMr1T",
        "colab_type": "code",
        "colab": {}
      },
      "source": [
        "sort1 = quickSort(arr)"
      ],
      "execution_count": 0,
      "outputs": []
    },
    {
      "cell_type": "code",
      "metadata": {
        "id": "9APhv01fMyf-",
        "colab_type": "code",
        "outputId": "078bf969-6af4-451a-fe1d-771ea4193fc7",
        "colab": {
          "base_uri": "https://localhost:8080/",
          "height": 316
        }
      },
      "source": [
        "sort1.quick_sort(low,n-1)"
      ],
      "execution_count": 0,
      "outputs": [
        {
          "output_type": "stream",
          "text": [
            "[1, 8, 7, 6, 5, 4, 3, 2, 9]\n",
            "[1, 2, 7, 6, 5, 4, 3, 8, 9]\n",
            "[1, 2, 3, 6, 5, 4, 7, 8, 9]\n",
            "[1, 2, 3, 4, 5, 6, 7, 8, 9]\n",
            "[1, 2, 3, 4, 5, 6, 7, 8, 9]\n",
            "[1, 2, 3, 4, 5, 6, 7, 8, 9]\n",
            "[1, 2, 3, 4, 5, 6, 7, 8, 9]\n",
            "[1, 2, 3, 4, 5, 6, 7, 8, 9]\n",
            "[1, 2, 3, 4, 5, 6, 7, 8, 9]\n",
            "[1, 2, 3, 4, 5, 6, 7, 8, 9]\n",
            "[1, 2, 3, 4, 5, 6, 7, 8, 9]\n",
            "[1, 2, 3, 4, 5, 6, 7, 8, 9]\n",
            "[1, 2, 3, 4, 5, 6, 7, 8, 9]\n",
            "[1, 2, 3, 4, 5, 6, 7, 8, 9]\n",
            "[1, 2, 3, 4, 5, 6, 7, 8, 9]\n",
            "[1, 2, 3, 4, 5, 6, 7, 8, 9]\n",
            "[1, 2, 3, 4, 5, 6, 7, 8, 9]\n"
          ],
          "name": "stdout"
        }
      ]
    },
    {
      "cell_type": "code",
      "metadata": {
        "id": "FciOivmXNGES",
        "colab_type": "code",
        "colab": {}
      },
      "source": [
        ""
      ],
      "execution_count": 0,
      "outputs": []
    }
  ]
}