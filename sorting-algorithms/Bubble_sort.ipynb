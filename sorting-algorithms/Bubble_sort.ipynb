{
  "nbformat": 4,
  "nbformat_minor": 0,
  "metadata": {
    "colab": {
      "name": "Bubble_sort",
      "provenance": []
    },
    "kernelspec": {
      "name": "python3",
      "display_name": "Python 3"
    }
  },
  "cells": [
    {
      "cell_type": "code",
      "metadata": {
        "id": "R1qr64VwYdF_",
        "colab_type": "code",
        "colab": {}
      },
      "source": [
        "class bubbleSort():\n",
        "  def __init__(self,arr):\n",
        "    self.arr = arr\n",
        "  \n",
        "  def sort(self):\n",
        "    n = len(self.arr)\n",
        "    for i in range(0,n):\n",
        "      for j in range(i+0,n):\n",
        "        if(self.arr[i]>self.arr[j]):\n",
        "          temp = self.arr[i]\n",
        "          self.arr[i] = self.arr[j]\n",
        "          self.arr[j] = temp\n",
        "      print(self.arr)"
      ],
      "execution_count": 0,
      "outputs": []
    },
    {
      "cell_type": "code",
      "metadata": {
        "id": "jD-Xe3aTZg2v",
        "colab_type": "code",
        "colab": {}
      },
      "source": [
        "arr = [9,8,7,6,5,4,3,2,1,0]"
      ],
      "execution_count": 0,
      "outputs": []
    },
    {
      "cell_type": "code",
      "metadata": {
        "id": "oq1VMZCcZkUu",
        "colab_type": "code",
        "colab": {}
      },
      "source": [
        "y = bubbleSort(arr)"
      ],
      "execution_count": 0,
      "outputs": []
    },
    {
      "cell_type": "code",
      "metadata": {
        "id": "cmjur1dpZoMm",
        "colab_type": "code",
        "outputId": "e7a5c761-a8b6-48f3-ff6b-58fd4f9b9bd5",
        "colab": {
          "base_uri": "https://localhost:8080/",
          "height": 187
        }
      },
      "source": [
        "y.sort()"
      ],
      "execution_count": 0,
      "outputs": [
        {
          "output_type": "stream",
          "text": [
            "[0, 9, 8, 7, 6, 5, 4, 3, 2, 1]\n",
            "[0, 1, 9, 8, 7, 6, 5, 4, 3, 2]\n",
            "[0, 1, 2, 9, 8, 7, 6, 5, 4, 3]\n",
            "[0, 1, 2, 3, 9, 8, 7, 6, 5, 4]\n",
            "[0, 1, 2, 3, 4, 9, 8, 7, 6, 5]\n",
            "[0, 1, 2, 3, 4, 5, 9, 8, 7, 6]\n",
            "[0, 1, 2, 3, 4, 5, 6, 9, 8, 7]\n",
            "[0, 1, 2, 3, 4, 5, 6, 7, 9, 8]\n",
            "[0, 1, 2, 3, 4, 5, 6, 7, 8, 9]\n",
            "[0, 1, 2, 3, 4, 5, 6, 7, 8, 9]\n"
          ],
          "name": "stdout"
        }
      ]
    },
    {
      "cell_type": "code",
      "metadata": {
        "id": "7BSNV_N6ZqAu",
        "colab_type": "code",
        "colab": {}
      },
      "source": [
        ""
      ],
      "execution_count": 0,
      "outputs": []
    }
  ]
}