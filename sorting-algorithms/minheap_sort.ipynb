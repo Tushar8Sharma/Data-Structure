{
  "nbformat": 4,
  "nbformat_minor": 0,
  "metadata": {
    "colab": {
      "name": "minheap_sort",
      "provenance": [],
      "collapsed_sections": []
    },
    "kernelspec": {
      "name": "python3",
      "display_name": "Python 3"
    }
  },
  "cells": [
    {
      "cell_type": "code",
      "metadata": {
        "id": "0C8UYB-PXVs6",
        "colab_type": "code",
        "colab": {}
      },
      "source": [
        "class minHeapSort():\n",
        "  def __init__(self,arr):\n",
        "    self.arr = arr\n",
        "\n",
        "  def sort(self):\n",
        "    n =  len(self.arr)\n",
        "    x = int(n/2)\n",
        "    while(x>=0):\n",
        "      self.minHeapify(x,n)\n",
        "      x = x-1\n",
        "    arr1 = [0]*(n)\n",
        "    k=0\n",
        "    j=n-1\n",
        "    while j>=0:\n",
        "      arr1[k] = self.arr[0]\n",
        "      k += 1\n",
        "      self.arr[0] = self.arr[j]\n",
        "      # j -= 1\n",
        "      n = n-1\n",
        "      self.minHeapify(0,n)\n",
        "      j=j-1\n",
        "    print(arr1)\n",
        "\n",
        "  def minHeapify(self,i,n):\n",
        "    l = 2*i\n",
        "    r = 2*i + 1\n",
        "    if l<n and self.arr[l]<self.arr[i]:\n",
        "      lowest = l\n",
        "    else:\n",
        "      lowest = i\n",
        "    if r<n and self.arr[r]<self.arr[lowest]:\n",
        "      lowest = r\n",
        "    if lowest != i :\n",
        "      temp = self.arr[i]\n",
        "      self.arr[i] = self.arr[lowest]\n",
        "      self.arr[lowest] = temp\n",
        "      self.minHeapify(lowest,n)"
      ],
      "execution_count": 0,
      "outputs": []
    },
    {
      "cell_type": "code",
      "metadata": {
        "id": "Ab3VPC6FSHgx",
        "colab_type": "code",
        "colab": {}
      },
      "source": [
        "arr = [9,8,7,6,5,4,3,2,1,0]"
      ],
      "execution_count": 0,
      "outputs": []
    },
    {
      "cell_type": "code",
      "metadata": {
        "id": "Rt62Pj2OTfZ-",
        "colab_type": "code",
        "colab": {}
      },
      "source": [
        "x = minHeapSort(arr)"
      ],
      "execution_count": 0,
      "outputs": []
    },
    {
      "cell_type": "code",
      "metadata": {
        "id": "S1E8efq6Tkvn",
        "colab_type": "code",
        "outputId": "1f92573a-5799-4e3c-9820-5d1f5f9510af",
        "colab": {
          "base_uri": "https://localhost:8080/",
          "height": 34
        }
      },
      "source": [
        "x.sort()"
      ],
      "execution_count": 12,
      "outputs": [
        {
          "output_type": "stream",
          "text": [
            "[0, 1, 2, 3, 4, 5, 6, 7, 8, 9]\n"
          ],
          "name": "stdout"
        }
      ]
    },
    {
      "cell_type": "code",
      "metadata": {
        "id": "Wkx0CN1iVl-5",
        "colab_type": "code",
        "colab": {}
      },
      "source": [
        ""
      ],
      "execution_count": 0,
      "outputs": []
    }
  ]
}