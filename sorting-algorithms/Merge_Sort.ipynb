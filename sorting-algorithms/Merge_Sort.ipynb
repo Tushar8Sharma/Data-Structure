{
  "nbformat": 4,
  "nbformat_minor": 0,
  "metadata": {
    "colab": {
      "name": "Merge_Sort",
      "provenance": []
    },
    "kernelspec": {
      "name": "python3",
      "display_name": "Python 3"
    }
  },
  "cells": [
    {
      "cell_type": "code",
      "metadata": {
        "id": "5NscJbglwpQf",
        "colab_type": "code",
        "colab": {}
      },
      "source": [
        "class merge_Sort(): \n",
        "  def __init__(self,arr):\n",
        "    self.arr=arr \n",
        "  def merge_sort(self,low,high):\n",
        "    if low<high:\n",
        "      mid = (int)((low+high-1)/2)\n",
        "      self.merge_sort(low,mid)\n",
        "      self.merge_sort(mid+1,high)\n",
        "      self.merge(low,mid,high)\n",
        "      return self.arr\n",
        "  \n",
        "  def merge(self,low,mid,high):\n",
        "    n1 = mid-low+1\n",
        "    n2 = high-mid\n",
        "    arr1=[]\n",
        "    arr2=[]\n",
        "    arr1 = [0]*(n1)\n",
        "    arr2 = [0]*(n2)\n",
        "    for i in range(0,n1):\n",
        "      arr1[i]=self.arr[low+i]\n",
        "    for i in range(0,n2):\n",
        "      arr2[i]=self.arr[mid+1+i]\n",
        "    i=0\n",
        "    j=0\n",
        "    k=low\n",
        "    while(i<n1)&(j<n2):\n",
        "      if(arr1[i]>=arr2[j]):\n",
        "        self.arr[k]=arr2[j]\n",
        "        k=k+1\n",
        "        j=j+1\n",
        "      else:\n",
        "        self.arr[k]=arr1[j]\n",
        "        k=k+1\n",
        "        i=i+1\n",
        "    while(i<n1):\n",
        "      self.arr[k]=arr1[i]\n",
        "      k=k+1\n",
        "      i=i+1\n",
        "    while(j<n2):\n",
        "      self.arr[k]=arr2[j]\n",
        "      k=k+1\n",
        "      j=j+1\n",
        "    return arr"
      ],
      "execution_count": 0,
      "outputs": []
    },
    {
      "cell_type": "code",
      "metadata": {
        "id": "j5C2GM2s0rOz",
        "colab_type": "code",
        "colab": {}
      },
      "source": [
        "arr = [9,8,7,6,5,4,3,2]\n",
        "n = len(arr)\n",
        "l = 0"
      ],
      "execution_count": 0,
      "outputs": []
    },
    {
      "cell_type": "code",
      "metadata": {
        "id": "8BNDzwE21FfT",
        "colab_type": "code",
        "colab": {}
      },
      "source": [
        "sort = merge_Sort(arr)"
      ],
      "execution_count": 0,
      "outputs": []
    },
    {
      "cell_type": "code",
      "metadata": {
        "id": "ripsdMyK1YjL",
        "colab_type": "code",
        "colab": {}
      },
      "source": [
        "arr1 = sort.merge_sort(l,n-1)"
      ],
      "execution_count": 0,
      "outputs": []
    },
    {
      "cell_type": "code",
      "metadata": {
        "id": "akQGWciG1fWF",
        "colab_type": "code",
        "colab": {
          "base_uri": "https://localhost:8080/",
          "height": 34
        },
        "outputId": "c4984e67-ed75-4f1f-d580-f3c9475108de"
      },
      "source": [
        "arr1"
      ],
      "execution_count": 5,
      "outputs": [
        {
          "output_type": "execute_result",
          "data": {
            "text/plain": [
              "[2, 3, 4, 5, 6, 7, 8, 9]"
            ]
          },
          "metadata": {
            "tags": []
          },
          "execution_count": 5
        }
      ]
    },
    {
      "cell_type": "code",
      "metadata": {
        "id": "yyNkskmxYzeo",
        "colab_type": "code",
        "colab": {}
      },
      "source": [
        ""
      ],
      "execution_count": 0,
      "outputs": []
    }
  ]
}