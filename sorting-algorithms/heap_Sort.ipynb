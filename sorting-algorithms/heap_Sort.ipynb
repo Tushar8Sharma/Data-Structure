{
  "nbformat": 4,
  "nbformat_minor": 0,
  "metadata": {
    "colab": {
      "name": "heap_Sort",
      "provenance": []
    },
    "kernelspec": {
      "name": "python3",
      "display_name": "Python 3"
    }
  },
  "cells": [
    {
      "cell_type": "code",
      "metadata": {
        "id": "X8lFyt312Cjj",
        "colab_type": "code",
        "colab": {}
      },
      "source": [
        "class heap():\n",
        "  def __init__(self,arr):\n",
        "    self.arr = arr\n",
        "\n",
        "  def process(self):\n",
        "    n = len(self.arr)\n",
        "    i = int(n/2)\n",
        "    arr1=[0]*(n)\n",
        "    while(i>=0):\n",
        "      self.max_heap(i,n)\n",
        "      i-=1\n",
        "    k=0\n",
        "    j=n-1\n",
        "    while(j>=0):\n",
        "      key = self.arr[0]\n",
        "      self.arr[0] = self.arr[j]\n",
        "      n=n-1\n",
        "      arr1[k]=key\n",
        "      k = k+1\n",
        "      self.max_heap(0,n)\n",
        "      j=j-1\n",
        "    return arr1\n",
        "\n",
        "  def max_heap(self,i,n):\n",
        "    l = 2*i\n",
        "    r = 2*i + 1\n",
        "    if l<n and self.arr[i]<self.arr[l]:\n",
        "      largest = l\n",
        "    else:\n",
        "      largest = i\n",
        "    if r<n and self.arr[largest]<self.arr[r]:\n",
        "      largest = r\n",
        "    if largest != i:\n",
        "      temp = self.arr[largest]\n",
        "      self.arr[largest] = self.arr[i]\n",
        "      self.arr[i] = temp\n",
        "      self.max_heap(largest,n)"
      ],
      "execution_count": 0,
      "outputs": []
    },
    {
      "cell_type": "code",
      "metadata": {
        "id": "bNDTJZrS52ke",
        "colab_type": "code",
        "colab": {}
      },
      "source": [
        "arr = [1,2,3,4,5,6,7,8,9]"
      ],
      "execution_count": 0,
      "outputs": []
    },
    {
      "cell_type": "code",
      "metadata": {
        "id": "omPksfBQ56LI",
        "colab_type": "code",
        "colab": {}
      },
      "source": [
        "sort1 = heap(arr) "
      ],
      "execution_count": 0,
      "outputs": []
    },
    {
      "cell_type": "code",
      "metadata": {
        "id": "T0ALpuwP6D7g",
        "colab_type": "code",
        "colab": {}
      },
      "source": [
        "arr1 = sort1.process()"
      ],
      "execution_count": 0,
      "outputs": []
    },
    {
      "cell_type": "code",
      "metadata": {
        "id": "rWCYxZvH6IA1",
        "colab_type": "code",
        "outputId": "1b1cf61f-f38a-40f4-e767-0c473adaa4fa",
        "colab": {
          "base_uri": "https://localhost:8080/",
          "height": 34
        }
      },
      "source": [
        "arr1"
      ],
      "execution_count": 13,
      "outputs": [
        {
          "output_type": "execute_result",
          "data": {
            "text/plain": [
              "[9, 8, 7, 6, 5, 4, 3, 2, 1]"
            ]
          },
          "metadata": {
            "tags": []
          },
          "execution_count": 13
        }
      ]
    },
    {
      "cell_type": "code",
      "metadata": {
        "id": "jVBlDoKf6PFj",
        "colab_type": "code",
        "colab": {}
      },
      "source": [
        "for i in range(5,0):\n",
        "  print(i)"
      ],
      "execution_count": 0,
      "outputs": []
    },
    {
      "cell_type": "code",
      "metadata": {
        "id": "vjw7VqLcJJbP",
        "colab_type": "code",
        "colab": {}
      },
      "source": [
        ""
      ],
      "execution_count": 0,
      "outputs": []
    }
  ]
}