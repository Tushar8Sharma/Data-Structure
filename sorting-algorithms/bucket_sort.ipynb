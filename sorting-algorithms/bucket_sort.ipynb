{
  "nbformat": 4,
  "nbformat_minor": 0,
  "metadata": {
    "colab": {
      "name": "bucket_sort",
      "provenance": [],
      "collapsed_sections": []
    },
    "kernelspec": {
      "name": "python3",
      "display_name": "Python 3"
    }
  },
  "cells": [
    {
      "cell_type": "code",
      "metadata": {
        "id": "7I4Ysd-EfWPo",
        "colab_type": "code",
        "colab": {}
      },
      "source": [
        "class bucket_sort():\n",
        "  def __init__(self,arr):\n",
        "    self.arr = arr\n",
        "  \n",
        "  def sort(self):\n",
        "    n = len(self.arr)\n",
        "    arr1 = []\n",
        "    s=10\n",
        "    for i in range(s):\n",
        "      arr1.append([])\n",
        "    for i in range(0,n):\n",
        "      index = int(self.arr[i]*s)\n",
        "      # print(index)\n",
        "      arr1[index].append(self.arr[i])\n",
        "      # print(arr1)\n",
        "    for i in range(s):\n",
        "      arr1[i] = self.insertion(arr1[i])\n",
        "    # print(arr1)\n",
        "    k=0\n",
        "    for i in range(s):\n",
        "      for j in range(len(arr1[i])):\n",
        "        self.arr[k] = arr1[i][j]\n",
        "        # print(self.arr)\n",
        "        k+=1\n",
        "    print(self.arr)\n",
        "\n",
        "  def insertion(self,b):\n",
        "    # print(arr1)\n",
        "    for i in range(1, len(b)): \n",
        "        up = b[i] \n",
        "        j = i - 1\n",
        "        while j >=0 and b[j] > up:  \n",
        "            b[j + 1] = b[j] \n",
        "            j -= 1\n",
        "        b[j + 1] = up      \n",
        "    return b      "
      ],
      "execution_count": 0,
      "outputs": []
    },
    {
      "cell_type": "code",
      "metadata": {
        "id": "XvhgtuqtkK13",
        "colab_type": "code",
        "colab": {}
      },
      "source": [
        "arr = [0.897, 0.565, 0.656, 0.1234, 0.665, 0.3434] \n",
        "x = bucket_sort(arr)"
      ],
      "execution_count": 0,
      "outputs": []
    },
    {
      "cell_type": "code",
      "metadata": {
        "id": "S-2EtrDMkflg",
        "colab_type": "code",
        "outputId": "13db458e-6112-4a9f-9773-5b3c662078c6",
        "colab": {
          "base_uri": "https://localhost:8080/",
          "height": 34
        }
      },
      "source": [
        "x.sort()"
      ],
      "execution_count": 0,
      "outputs": [
        {
          "output_type": "stream",
          "text": [
            "[0.1234, 0.3434, 0.565, 0.656, 0.665, 0.897]\n"
          ],
          "name": "stdout"
        }
      ]
    },
    {
      "cell_type": "code",
      "metadata": {
        "id": "ZFUlhVK8yb7m",
        "colab_type": "code",
        "colab": {}
      },
      "source": [
        ""
      ],
      "execution_count": 0,
      "outputs": []
    }
  ]
}