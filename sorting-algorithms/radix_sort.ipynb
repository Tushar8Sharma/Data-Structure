{
  "nbformat": 4,
  "nbformat_minor": 0,
  "metadata": {
    "colab": {
      "name": "radix_sort",
      "provenance": [],
      "collapsed_sections": []
    },
    "kernelspec": {
      "name": "python3",
      "display_name": "Python 3"
    }
  },
  "cells": [
    {
      "cell_type": "code",
      "metadata": {
        "id": "g5hsqkcvQXqZ",
        "colab_type": "code",
        "colab": {}
      },
      "source": [
        "import numpy as np\n",
        "import math"
      ],
      "execution_count": 0,
      "outputs": []
    },
    {
      "cell_type": "code",
      "metadata": {
        "id": "LDNLfRpdLkgT",
        "colab_type": "code",
        "colab": {}
      },
      "source": [
        "class bucketSort():\n",
        "  def __init__(self,arr):\n",
        "    self.arr = arr\n",
        "  \n",
        "  def sort(self):\n",
        "    n = len(self.arr)\n",
        "    self.bucket(n)\n",
        "  \n",
        "  def bucket(self,n):\n",
        "    for i in range(0, n):\n",
        "      r = 0\n",
        "      x = arr[i]\n",
        "      while x>0:\n",
        "        x = int(x/10)\n",
        "        r = r+1 \n",
        "      for j in range(i+1,n):\n",
        "        l = 0\n",
        "        x = arr[j]\n",
        "        while x>0:\n",
        "          x = int(x/10)\n",
        "          l = l+1\n",
        "        if(r>l):\n",
        "          temp = arr[j]\n",
        "          arr[j] = arr[i]\n",
        "          arr[i] = temp\n",
        "        elif (r==l):\n",
        "          x = self.arr[i]/pow(10,r-1)\n",
        "          y = self.arr[j]/pow(10,l-1)\n",
        "          if(x>y):\n",
        "            temp = arr[j]\n",
        "            arr[j] = arr[i]\n",
        "            arr[i] = temp\n",
        "      print(self.arr)"
      ],
      "execution_count": 0,
      "outputs": []
    },
    {
      "cell_type": "code",
      "metadata": {
        "id": "STTB34qLQ7Pc",
        "colab_type": "code",
        "colab": {}
      },
      "source": [
        "arr = [9,10,8,45,20,202,304,111,23,44,56]"
      ],
      "execution_count": 0,
      "outputs": []
    },
    {
      "cell_type": "code",
      "metadata": {
        "id": "CT5Xecn0RB4j",
        "colab_type": "code",
        "colab": {}
      },
      "source": [
        "s = bucketSort(arr)"
      ],
      "execution_count": 0,
      "outputs": []
    },
    {
      "cell_type": "code",
      "metadata": {
        "id": "g0KyCkkyRNCU",
        "colab_type": "code",
        "outputId": "1ec0b298-779a-438d-e2ef-68a288d9bd7b",
        "colab": {
          "base_uri": "https://localhost:8080/",
          "height": 210
        }
      },
      "source": [
        "s.sort()"
      ],
      "execution_count": 5,
      "outputs": [
        {
          "output_type": "stream",
          "text": [
            "[8, 10, 9, 45, 20, 202, 304, 111, 23, 44, 56]\n",
            "[8, 9, 10, 45, 20, 202, 304, 111, 23, 44, 56]\n",
            "[8, 9, 10, 45, 20, 202, 304, 111, 23, 44, 56]\n",
            "[8, 9, 10, 20, 45, 202, 304, 111, 23, 44, 56]\n",
            "[8, 9, 10, 20, 23, 202, 304, 111, 45, 44, 56]\n",
            "[8, 9, 10, 20, 23, 56, 304, 202, 111, 45, 44]\n",
            "[8, 9, 10, 20, 23, 56, 44, 304, 202, 111, 45]\n",
            "[8, 9, 10, 20, 23, 56, 44, 45, 304, 202, 111]\n",
            "[8, 9, 10, 20, 23, 56, 44, 45, 111, 304, 202]\n",
            "[8, 9, 10, 20, 23, 56, 44, 45, 111, 202, 304]\n",
            "[8, 9, 10, 20, 23, 56, 44, 45, 111, 202, 304]\n"
          ],
          "name": "stdout"
        }
      ]
    },
    {
      "cell_type": "code",
      "metadata": {
        "id": "OLCtd8NkRu1c",
        "colab_type": "code",
        "colab": {}
      },
      "source": [
        ""
      ],
      "execution_count": 0,
      "outputs": []
    }
  ]
}