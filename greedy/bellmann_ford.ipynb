{
  "nbformat": 4,
  "nbformat_minor": 0,
  "metadata": {
    "colab": {
      "name": "bellmann_ford",
      "provenance": []
    },
    "kernelspec": {
      "name": "python3",
      "display_name": "Python 3"
    }
  },
  "cells": [
    {
      "cell_type": "code",
      "metadata": {
        "id": "xJfS6K8Xw_Qy",
        "colab_type": "code",
        "colab": {}
      },
      "source": [
        "class bellman():\n",
        "  def __init__(self,arr,n):\n",
        "    self.arr = arr\n",
        "    self.n   = n\n",
        "  \n",
        "  def mst(self,src):\n",
        "    dist = [999]*(self.n)\n",
        "    dist[src] = 0\n",
        "    for x in range(self.n):\n",
        "      for i,j,k in self.arr:\n",
        "        if dist[i]!=999 and (dist[i]+k)<dist[j]:\n",
        "          dist[j]=dist[i]+k\n",
        "    print(dist)"
      ],
      "execution_count": 0,
      "outputs": []
    },
    {
      "cell_type": "code",
      "metadata": {
        "id": "zDcotyIQzjI_",
        "colab_type": "code",
        "colab": {}
      },
      "source": [
        "arr = [[0,1,-1],[0,2,4],[1,2,3],[1,3,2],[1,4,2],[3,2,5],[3,1,1],[4,3,-3]]"
      ],
      "execution_count": 0,
      "outputs": []
    },
    {
      "cell_type": "code",
      "metadata": {
        "id": "Ogq7NmGm3UUK",
        "colab_type": "code",
        "colab": {}
      },
      "source": [
        "x = bellman(arr,5)"
      ],
      "execution_count": 0,
      "outputs": []
    },
    {
      "cell_type": "code",
      "metadata": {
        "id": "xib_3bTm3Yvd",
        "colab_type": "code",
        "outputId": "c5e98fd4-1577-4d67-9ea6-06fb4510a4ad",
        "colab": {
          "base_uri": "https://localhost:8080/",
          "height": 34
        }
      },
      "source": [
        "x.mst(0)"
      ],
      "execution_count": 0,
      "outputs": [
        {
          "output_type": "stream",
          "text": [
            "[0, -1, 2, -2, 1]\n"
          ],
          "name": "stdout"
        }
      ]
    },
    {
      "cell_type": "code",
      "metadata": {
        "id": "af2lxrhN3ddI",
        "colab_type": "code",
        "colab": {}
      },
      "source": [
        ""
      ],
      "execution_count": 0,
      "outputs": []
    }
  ]
}