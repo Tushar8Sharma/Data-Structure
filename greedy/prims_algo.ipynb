{
  "nbformat": 4,
  "nbformat_minor": 0,
  "metadata": {
    "colab": {
      "name": "prims_algo.ipynb",
      "provenance": []
    },
    "kernelspec": {
      "name": "python3",
      "display_name": "Python 3"
    }
  },
  "cells": [
    {
      "cell_type": "code",
      "metadata": {
        "id": "kK36P9eIAC33",
        "colab_type": "code",
        "colab": {}
      },
      "source": [
        "class prim():\n",
        "  def __init__(self,arr,n):\n",
        "    self.arr = arr\n",
        "    self.n = n\n",
        "  \n",
        "  def mst(self):\n",
        "    parent = [999]*(self.n)\n",
        "    key = [999]*(self.n)\n",
        "    mstSet = [False]*self.n\n",
        "    key[0] = 0\n",
        "    parent[0] = -1\n",
        "    # print(mstSet)\n",
        "    for i in range(self.n-1):\n",
        "      j = self.minKey(key,mstSet)\n",
        "      mstSet[j] = True\n",
        "      for k in range(self.n):\n",
        "        if (self.arr[j][k]):\n",
        "          if(mstSet[k]==False):\n",
        "            if(self.arr[j][k]<int(key[k])):\n",
        "              parent[k] = j\n",
        "              key[k] = self.arr[j][k]\n",
        "    self.mstGraph(parent,key)\n",
        "\n",
        "  def mstGraph(self,parent,key):\n",
        "    for i in range(1,self.n):\n",
        "      print(parent[i],self.arr[i][parent[i]])\n",
        "\n",
        "  def minKey(self,key,mstSet):\n",
        "    min = 999\n",
        "    for i in range(self.n):\n",
        "      if mstSet[i]==False and min>key[i]:\n",
        "        index = i\n",
        "        min = key[i]\n",
        "    return index"
      ],
      "execution_count": 0,
      "outputs": []
    },
    {
      "cell_type": "code",
      "metadata": {
        "id": "Rwq3ITMnDXs3",
        "colab_type": "code",
        "colab": {}
      },
      "source": [
        "arr = [[0,28,0,0,0,10,0],\n",
        "       [28,16,0,0,0,0,14],\n",
        "       [0,16,0,12,0,0,0],\n",
        "       [0,0,12,0,22,0,14],\n",
        "       [0,0,0,22,0,25,24],\n",
        "       [10,0,0,0,25,0,0],\n",
        "       [0,14,0,18,24,0,0]]"
      ],
      "execution_count": 0,
      "outputs": []
    },
    {
      "cell_type": "code",
      "metadata": {
        "id": "EMxbmXBZEkSQ",
        "colab_type": "code",
        "colab": {}
      },
      "source": [
        "x = prim(arr,7)"
      ],
      "execution_count": 0,
      "outputs": []
    },
    {
      "cell_type": "code",
      "metadata": {
        "id": "UaQs-kJWEqD0",
        "colab_type": "code",
        "outputId": "e490de23-638d-4bda-f085-484b4fa401fd",
        "colab": {
          "base_uri": "https://localhost:8080/",
          "height": 122
        }
      },
      "source": [
        "x.mst()"
      ],
      "execution_count": 4,
      "outputs": [
        {
          "output_type": "stream",
          "text": [
            "6 14\n",
            "3 12\n",
            "4 22\n",
            "5 25\n",
            "0 10\n",
            "3 18\n"
          ],
          "name": "stdout"
        }
      ]
    },
    {
      "cell_type": "code",
      "metadata": {
        "id": "w-9L6PutEuwQ",
        "colab_type": "code",
        "colab": {}
      },
      "source": [
        ""
      ],
      "execution_count": 0,
      "outputs": []
    }
  ]
}