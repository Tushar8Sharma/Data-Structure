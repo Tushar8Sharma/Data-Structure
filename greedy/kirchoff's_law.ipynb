{
  "nbformat": 4,
  "nbformat_minor": 0,
  "metadata": {
    "colab": {
      "name": "kirchoff's law",
      "provenance": [],
      "collapsed_sections": []
    },
    "kernelspec": {
      "name": "python3",
      "display_name": "Python 3"
    }
  },
  "cells": [
    {
      "cell_type": "code",
      "metadata": {
        "id": "YJ7n1uoA1jcP",
        "colab_type": "code",
        "colab": {}
      },
      "source": [
        "class kirchoff():\n",
        "  def __init__(self,arr,n):\n",
        "    self.arr = arr\n",
        "    self.n   = n\n",
        "  \n",
        "  def span(self):\n",
        "    arr1 = self.arr.copy()\n",
        "    x=self.n\n",
        "    for i in range(self.n):\n",
        "      for j in range(self.n):\n",
        "        count=0\n",
        "        if(i==j) and (arr1[i][j]==0):\n",
        "          for k in range(self.n):\n",
        "            if arr1[i][k]!=0:\n",
        "              count += 1\n",
        "          # print(count)\n",
        "          arr1[i][j]=count\n",
        "        else :\n",
        "          if arr1[i][j]==1:\n",
        "            arr1[i][j]=-1\n",
        "    print(arr1)\n",
        "    sum = 0\n",
        "    for i in range(1,x):\n",
        "      for j in range(1,x):\n",
        "        sum = self.determinant(arr1,x-1)\n",
        "        # print(sum)\n",
        "    return sum\n",
        "\n",
        "  def determinant(self,arr2,x):\n",
        "    d=0\n",
        "    if(x==1):\n",
        "      return arr2[0][0]\n",
        "    else :\n",
        "      sign = 1\n",
        "      for f in range(x):\n",
        "        temp = self.getcofactor(arr2,0,f,x)\n",
        "        d += sign * arr2[0][f]*self.determinant(temp,x-1)\n",
        "        sign = -sign\n",
        "      return d\n",
        "\n",
        "  def getcofactor(self,arr1,p,q,x):\n",
        "    i=0\n",
        "    j=0\n",
        "    temp=[]\n",
        "    for k in range(x):\n",
        "      os = []\n",
        "      for l in range(x):\n",
        "        os.append(0)\n",
        "      temp.append(os)\n",
        "    for row in range(x):\n",
        "      for col in range(x):\n",
        "        if row!=p and col!=q:\n",
        "          temp[i][j] = arr1[row][col]\n",
        "          j += 1\n",
        "          if(j==(x-1)):\n",
        "            j=0\n",
        "            i+=1\n",
        "    return temp"
      ],
      "execution_count": 0,
      "outputs": []
    },
    {
      "cell_type": "code",
      "metadata": {
        "id": "z9gRpGiDCxCb",
        "colab_type": "code",
        "colab": {}
      },
      "source": [
        "arr = [[0,0,1,1],\n",
        "       [0,0,1,1],\n",
        "       [1,1,0,1],\n",
        "       [1,1,1,0]]"
      ],
      "execution_count": 0,
      "outputs": []
    },
    {
      "cell_type": "code",
      "metadata": {
        "id": "42tYwx09C-tS",
        "colab_type": "code",
        "colab": {}
      },
      "source": [
        "x = kirchoff(arr,4)"
      ],
      "execution_count": 0,
      "outputs": []
    },
    {
      "cell_type": "code",
      "metadata": {
        "id": "Fx3teYNTDDDZ",
        "colab_type": "code",
        "outputId": "bc2bcacc-ad1e-42cd-a5ec-c9997ed12a34",
        "colab": {
          "base_uri": "https://localhost:8080/",
          "height": 51
        }
      },
      "source": [
        "print(x.span())"
      ],
      "execution_count": 0,
      "outputs": [
        {
          "output_type": "stream",
          "text": [
            "[[2, 0, -1, -1], [0, 2, -1, -1], [-1, -1, 3, -1], [-1, -1, -1, 3]]\n",
            "8\n"
          ],
          "name": "stdout"
        }
      ]
    },
    {
      "cell_type": "code",
      "metadata": {
        "id": "vg3uwoRADJjt",
        "colab_type": "code",
        "colab": {}
      },
      "source": [
        ""
      ],
      "execution_count": 0,
      "outputs": []
    }
  ]
}