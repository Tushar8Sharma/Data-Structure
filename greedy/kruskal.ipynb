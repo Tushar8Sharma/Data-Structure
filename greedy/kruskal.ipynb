{
  "nbformat": 4,
  "nbformat_minor": 0,
  "metadata": {
    "colab": {
      "name": "kruskal",
      "provenance": [],
      "collapsed_sections": []
    },
    "kernelspec": {
      "name": "python3",
      "display_name": "Python 3"
    }
  },
  "cells": [
    {
      "cell_type": "code",
      "metadata": {
        "id": "QowqFN3eyKVW",
        "colab_type": "code",
        "colab": {}
      },
      "source": [
        "class kruskal():\n",
        "  def __init__(self,arr,n):\n",
        "    self.arr = arr\n",
        "    self.n = n\n",
        "  \n",
        "  def mst(self):\n",
        "    vert = []\n",
        "    edge = []\n",
        "    x = 0\n",
        "    while(x<self.n-1):\n",
        "      min = 999\n",
        "      # print('vert',len(vert))\n",
        "      for i in range(self.n):\n",
        "        for j in range(self.n):\n",
        "          if min>self.arr[i][j] and self.arr[i][j]!=0:\n",
        "            min = self.arr[i][j]\n",
        "            p = i\n",
        "            q = j\n",
        "      flag = 0\n",
        "      for k in range(len(vert)):\n",
        "        if vert[k]==p:\n",
        "          flag += 1\n",
        "        if vert[k]==q:\n",
        "          flag += 1\n",
        "      if flag<1:\n",
        "        vert.append([p,q])\n",
        "        edge.append(self.arr[p][q])\n",
        "      self.arr[p][q]=999\n",
        "      self.arr[q][p]=999\n",
        "      x += 1\n",
        "    print(vert)\n",
        "    print(edge)"
      ],
      "execution_count": 0,
      "outputs": []
    },
    {
      "cell_type": "code",
      "metadata": {
        "id": "zjdTv9Ec1P_t",
        "colab_type": "code",
        "colab": {}
      },
      "source": [
        "arr = [[0,2,0,6,0],\n",
        "       [2,0,3,8,5],\n",
        "       [0,3,0,0,7],\n",
        "       [6,8,0,0,9],\n",
        "       [0,5,7,9,0]]"
      ],
      "execution_count": 0,
      "outputs": []
    },
    {
      "cell_type": "code",
      "metadata": {
        "id": "3Qx8dVWv2_T9",
        "colab_type": "code",
        "colab": {}
      },
      "source": [
        "x = krushkal(arr,5)"
      ],
      "execution_count": 0,
      "outputs": []
    },
    {
      "cell_type": "code",
      "metadata": {
        "id": "pEwTtt_33ED-",
        "colab_type": "code",
        "outputId": "64a9cc1a-a6b9-4929-e504-024fa55e2516",
        "colab": {
          "base_uri": "https://localhost:8080/",
          "height": 52
        }
      },
      "source": [
        "x.mst()"
      ],
      "execution_count": 0,
      "outputs": [
        {
          "output_type": "stream",
          "text": [
            "[[0, 1], [1, 2], [1, 4], [0, 3]]\n",
            "[2, 3, 5, 6]\n"
          ],
          "name": "stdout"
        }
      ]
    },
    {
      "cell_type": "code",
      "metadata": {
        "id": "RLcf-b_G3GK0",
        "colab_type": "code",
        "colab": {}
      },
      "source": [
        ""
      ],
      "execution_count": 0,
      "outputs": []
    }
  ]
}