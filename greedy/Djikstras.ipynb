{
  "nbformat": 4,
  "nbformat_minor": 0,
  "metadata": {
    "colab": {
      "name": "Djikstras",
      "provenance": [],
      "collapsed_sections": []
    },
    "kernelspec": {
      "name": "python3",
      "display_name": "Python 3"
    }
  },
  "cells": [
    {
      "cell_type": "code",
      "metadata": {
        "id": "ivFkLpMtUg03",
        "colab_type": "code",
        "colab": {}
      },
      "source": [
        "class Djikstra():\n",
        "  def __init__(self,arr,n):\n",
        "    self.arr = arr\n",
        "    self.n = n\n",
        "  \n",
        "  def spt(self,src):\n",
        "    nodes = [999]*(self.n)\n",
        "    nodes[src] = 0\n",
        "    chk = [False]*(self.n)\n",
        "    for i in range(self.n):\n",
        "      j = self.mini_dist(nodes,chk)\n",
        "      chk[j] = True\n",
        "      for k in range(self.n):\n",
        "        if self.arr[j][k]>0 and chk[k] == False and (nodes[k] > nodes[j] + self.arr[j][k]):\n",
        "          nodes[k] = nodes[j] + self.arr[j][k]\n",
        "    for i in range(self.n):\n",
        "      print(i, ' ',nodes[i])\n",
        "\n",
        "  def mini_dist(self,nodes,chk):\n",
        "    min = 999\n",
        "    index = 0\n",
        "    for i in range(self.n):\n",
        "      if nodes[i]<min and chk[i]==False:\n",
        "        min = nodes[i]\n",
        "        index = i\n",
        "    return index"
      ],
      "execution_count": 0,
      "outputs": []
    },
    {
      "cell_type": "code",
      "metadata": {
        "id": "iK3oLiFuYXPF",
        "colab_type": "code",
        "colab": {}
      },
      "source": [
        "arr =  [[0, 4, 0, 0, 0, 0, 0, 8, 0], \n",
        "        [4, 0, 8, 0, 0, 0, 0, 11, 0], \n",
        "        [0, 8, 0, 7, 0, 4, 0, 0, 2], \n",
        "        [0, 0, 7, 0, 9, 14, 0, 0, 0], \n",
        "        [0, 0, 0, 9, 0, 10, 0, 0, 0], \n",
        "        [0, 0, 4, 14, 10, 0, 2, 0, 0], \n",
        "        [0, 0, 0, 0, 0, 2, 0, 1, 6], \n",
        "        [8, 11, 0, 0, 0, 0, 1, 0, 7], \n",
        "        [0, 0, 2, 0, 0, 0, 6, 7, 0]] "
      ],
      "execution_count": 0,
      "outputs": []
    },
    {
      "cell_type": "code",
      "metadata": {
        "id": "OWGESIxYYe_R",
        "colab_type": "code",
        "colab": {}
      },
      "source": [
        "d = Djikstra(arr,9)"
      ],
      "execution_count": 0,
      "outputs": []
    },
    {
      "cell_type": "code",
      "metadata": {
        "id": "qIx4Pr2eYqR-",
        "colab_type": "code",
        "outputId": "4168b134-d709-4b24-98f8-118676bbbf51",
        "colab": {
          "base_uri": "https://localhost:8080/",
          "height": 175
        }
      },
      "source": [
        "d.spt(0)"
      ],
      "execution_count": 0,
      "outputs": [
        {
          "output_type": "stream",
          "text": [
            "0   0\n",
            "1   4\n",
            "2   12\n",
            "3   19\n",
            "4   21\n",
            "5   11\n",
            "6   9\n",
            "7   8\n",
            "8   14\n"
          ],
          "name": "stdout"
        }
      ]
    },
    {
      "cell_type": "code",
      "metadata": {
        "id": "WsyFLfoUYydr",
        "colab_type": "code",
        "colab": {}
      },
      "source": [
        ""
      ],
      "execution_count": 0,
      "outputs": []
    }
  ]
}