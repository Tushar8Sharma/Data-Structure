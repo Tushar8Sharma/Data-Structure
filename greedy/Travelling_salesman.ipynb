{
  "nbformat": 4,
  "nbformat_minor": 0,
  "metadata": {
    "colab": {
      "name": "Travelling_salesman",
      "provenance": []
    },
    "kernelspec": {
      "name": "python3",
      "display_name": "Python 3"
    }
  },
  "cells": [
    {
      "cell_type": "code",
      "metadata": {
        "id": "zCjZvUEsolTs",
        "colab_type": "code",
        "colab": {}
      },
      "source": [
        "class travelling_sales_man():\n",
        "  def __init__(self,arr,n,s):\n",
        "    self.arr = arr\n",
        "    self.n = n\n",
        "    self.s = s\n",
        "  \n",
        "  def stp(self,src):\n",
        "    d = {}\n",
        "    m=src\n",
        "    for i in self.s :\n",
        "      if(i==src):\n",
        "        self.s.remove(i)\n",
        "    x = []\n",
        "    x.append(src)\n",
        "    sum = 0\n",
        "    while(1):\n",
        "      if self.s:\n",
        "        min = 999\n",
        "        for i in range(self.n):\n",
        "          if min>self.arr[src][i] and i in self.s:\n",
        "            min = self.arr[src][i]\n",
        "            min_index = i\n",
        "        sum += min\n",
        "        x.append(min_index)\n",
        "        self.s.remove(min_index)\n",
        "        src = min_index\n",
        "      else:\n",
        "        break\n",
        "    sum += self.arr[src][m]\n",
        "    x.append(m)\n",
        "    print(sum)\n",
        "    print(x)"
      ],
      "execution_count": 0,
      "outputs": []
    },
    {
      "cell_type": "code",
      "metadata": {
        "id": "rfLFASLgxOAz",
        "colab_type": "code",
        "colab": {}
      },
      "source": [
        "arr = [[0, 10, 15, 20],[10, 0, 35, 25],[15, 35, 0, 30],[20, 25, 30, 0]]\n",
        "n = 4\n",
        "s = [0,1,2,3]"
      ],
      "execution_count": 0,
      "outputs": []
    },
    {
      "cell_type": "code",
      "metadata": {
        "id": "LnmQ8ccexesy",
        "colab_type": "code",
        "colab": {}
      },
      "source": [
        "z = travelling_sales_man(arr,n,s)"
      ],
      "execution_count": 0,
      "outputs": []
    },
    {
      "cell_type": "code",
      "metadata": {
        "id": "ZQ62RvxWxl1S",
        "colab_type": "code",
        "outputId": "6c1a7abc-5206-4e73-d7c7-830961b39d23",
        "colab": {
          "base_uri": "https://localhost:8080/",
          "height": 52
        }
      },
      "source": [
        "z.stp(0)"
      ],
      "execution_count": 0,
      "outputs": [
        {
          "output_type": "stream",
          "text": [
            "80\n",
            "[0, 1, 3, 2, 0]\n"
          ],
          "name": "stdout"
        }
      ]
    },
    {
      "cell_type": "code",
      "metadata": {
        "id": "HZoP9ZW3xpeZ",
        "colab_type": "code",
        "colab": {}
      },
      "source": [
        ""
      ],
      "execution_count": 0,
      "outputs": []
    }
  ]
}