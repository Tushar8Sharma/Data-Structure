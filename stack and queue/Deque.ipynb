{
  "nbformat": 4,
  "nbformat_minor": 0,
  "metadata": {
    "colab": {
      "name": "Deque",
      "provenance": []
    },
    "kernelspec": {
      "name": "python3",
      "display_name": "Python 3"
    }
  },
  "cells": [
    {
      "cell_type": "code",
      "metadata": {
        "id": "SPHW4Uq1WOmy",
        "colab_type": "code",
        "colab": {}
      },
      "source": [
        "class Deque():\n",
        "  def __init__(self):\n",
        "    self.max = 5\n",
        "    self.arr = [0]*self.max\n",
        "    self.front = -1\n",
        "    self.rear = 0\n",
        "\n",
        "  def insertFront(self,src):\n",
        "    if(self.front==0 and self.rear == self.max -1) or self.front == self.rear+1:\n",
        "      print('queue is full')\n",
        "    elif(self.front==-1):\n",
        "      self.front = 0\n",
        "    elif(self.front==0):\n",
        "      self.front = self.max-1\n",
        "    else:\n",
        "      self.front += 1\n",
        "    self.arr[self.front] = src \n",
        "    print(self.arr[self.front])\n",
        "  \n",
        "  def insertRear(self,src):\n",
        "    if(self.front==0 and self.rear == self.max -1) or self.front == self.rear+1:\n",
        "      print('queue is full')\n",
        "    elif(self.front==-1):\n",
        "      self.front = self.max - 1\n",
        "    elif(self.rear == self.max-1):\n",
        "      self.rear = 0\n",
        "    else:\n",
        "      self.rear += 1\n",
        "    self.arr[self.rear] = src\n",
        "    print(self.arr[self.rear])\n",
        "  \n",
        "  def deleteFront(self):\n",
        "    if self.front==-1:\n",
        "      print('queue is empty')\n",
        "    elif self.front == self.rear:\n",
        "      self.front=-1\n",
        "      self.rear=-1\n",
        "    else:\n",
        "      if self.front==self.max-1:\n",
        "        self.front=0\n",
        "      else:\n",
        "        self.rear+=1\n",
        "  \n",
        "  def deleteRear(self):\n",
        "    if self.front==-1:\n",
        "      print('queue is empty')\n",
        "    elif self.front==self.rear:\n",
        "      self.front=-1\n",
        "      self.rear=-1\n",
        "    else:\n",
        "      if self.rear==0:\n",
        "        self.rear=self.max-1\n",
        "      else:\n",
        "        self.rear = self.rear-1"
      ],
      "execution_count": 0,
      "outputs": []
    },
    {
      "cell_type": "code",
      "metadata": {
        "id": "fGi7waPeclWf",
        "colab_type": "code",
        "colab": {}
      },
      "source": [
        "x = Deque()"
      ],
      "execution_count": 0,
      "outputs": []
    },
    {
      "cell_type": "code",
      "metadata": {
        "id": "dHnqfEmTc4oa",
        "colab_type": "code",
        "outputId": "d3bdc8f4-31ba-47b1-db20-2858e14eb0db",
        "colab": {
          "base_uri": "https://localhost:8080/",
          "height": 52
        }
      },
      "source": [
        "x.insertFront(2)\n",
        "x.insertRear(3)\n",
        "x.deleteFront()"
      ],
      "execution_count": 0,
      "outputs": [
        {
          "output_type": "stream",
          "text": [
            "2\n",
            "3\n"
          ],
          "name": "stdout"
        }
      ]
    },
    {
      "cell_type": "code",
      "metadata": {
        "id": "qUVsTkN3dHeH",
        "colab_type": "code",
        "colab": {}
      },
      "source": [
        ""
      ],
      "execution_count": 0,
      "outputs": []
    }
  ]
}