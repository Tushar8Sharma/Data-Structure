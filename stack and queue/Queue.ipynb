{
  "nbformat": 4,
  "nbformat_minor": 0,
  "metadata": {
    "colab": {
      "name": "Queue",
      "provenance": []
    },
    "kernelspec": {
      "name": "python3",
      "display_name": "Python 3"
    }
  },
  "cells": [
    {
      "cell_type": "code",
      "metadata": {
        "id": "-2CGY5QpObEu",
        "colab_type": "code",
        "colab": {}
      },
      "source": [
        "class queue():\n",
        "  def __init__(self):\n",
        "    self.front = 0\n",
        "    self.rear = 0\n",
        "    self.max1 = 5\n",
        "    self.arr = [0]*(self.max1)\n",
        "\n",
        "  def push(self,ele):\n",
        "    if(self.front<self.max1):\n",
        "      self.arr[self.front]=ele\n",
        "      self.front += 1\n",
        "    else:\n",
        "      print('queue is full')\n",
        "  \n",
        "  def pop(self):\n",
        "    if(self.front==-1)and(self.rear==self.front):\n",
        "      print('queue is empty')\n",
        "    else:\n",
        "      self.rear += 1\n",
        "  \n",
        "  def display(self):\n",
        "    if(self.front==-1)and(self.rear==self.front):\n",
        "      print('queue is empty')\n",
        "    else:\n",
        "      y = self.front \n",
        "      print(self.arr[self.rear:y])"
      ],
      "execution_count": 0,
      "outputs": []
    },
    {
      "cell_type": "code",
      "metadata": {
        "id": "73G4Dy-nT5-J",
        "colab_type": "code",
        "colab": {}
      },
      "source": [
        "x = queue()"
      ],
      "execution_count": 0,
      "outputs": []
    },
    {
      "cell_type": "code",
      "metadata": {
        "id": "KyqKkifGT_nr",
        "colab_type": "code",
        "outputId": "77d71c6f-8e5e-4379-a4e9-701f25d0315d",
        "colab": {
          "base_uri": "https://localhost:8080/",
          "height": 122
        }
      },
      "source": [
        "x.display()\n",
        "x.push(2)\n",
        "x.display()\n",
        "x.push(3)\n",
        "x.display()\n",
        "x.pop()\n",
        "x.display()\n",
        "x.push(4)\n",
        "x.push(5)\n",
        "x.push(6)\n",
        "x.push(7)\n",
        "x.display()"
      ],
      "execution_count": 0,
      "outputs": [
        {
          "output_type": "stream",
          "text": [
            "[]\n",
            "[2]\n",
            "[2, 3]\n",
            "[3]\n",
            "queue is full\n",
            "[3, 4, 5, 6]\n"
          ],
          "name": "stdout"
        }
      ]
    },
    {
      "cell_type": "code",
      "metadata": {
        "id": "Gs_0CJbKUZVE",
        "colab_type": "code",
        "colab": {}
      },
      "source": [
        ""
      ],
      "execution_count": 0,
      "outputs": []
    }
  ]
}