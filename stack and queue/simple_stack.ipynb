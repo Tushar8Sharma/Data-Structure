{
  "nbformat": 4,
  "nbformat_minor": 0,
  "metadata": {
    "colab": {
      "name": "simple_stack",
      "provenance": []
    },
    "kernelspec": {
      "name": "python3",
      "display_name": "Python 3"
    }
  },
  "cells": [
    {
      "cell_type": "code",
      "metadata": {
        "id": "yH46-5z3Xosp",
        "colab_type": "code",
        "colab": {}
      },
      "source": [
        "class simple_stack():\n",
        "  def __init__(self):\n",
        "    self.max = 3\n",
        "    self.i = 0\n",
        "    self.arr = []\n",
        "\n",
        "  def push(self,ele):\n",
        "    if(len(self.arr)<self.max):\n",
        "      self.arr.append(ele)\n",
        "      print(self.arr)\n",
        "    else:\n",
        "      print('stack is full')\n",
        "    \n",
        "  def pop(self):\n",
        "    if(len(self.arr)==0):\n",
        "      print('stack is empty')\n",
        "    else:\n",
        "      print(self.arr.pop())\n",
        "    print(self.arr)"
      ],
      "execution_count": 0,
      "outputs": []
    },
    {
      "cell_type": "code",
      "metadata": {
        "id": "HNfkDCAkad9b",
        "colab_type": "code",
        "colab": {}
      },
      "source": [
        "x = simple_stack()"
      ],
      "execution_count": 0,
      "outputs": []
    },
    {
      "cell_type": "code",
      "metadata": {
        "id": "JnlvSZCPaj9S",
        "colab_type": "code",
        "outputId": "76daf87c-aa8b-40c2-e12f-d12dfda98b82",
        "colab": {
          "base_uri": "https://localhost:8080/",
          "height": 228
        }
      },
      "source": [
        "x.push(2)\n",
        "x.push(6)\n",
        "x.push(9)\n",
        "x.push(1)\n",
        "x.pop()\n",
        "x.pop()\n",
        "x.pop()\n",
        "x.pop()"
      ],
      "execution_count": 0,
      "outputs": [
        {
          "output_type": "stream",
          "text": [
            "[2]\n",
            "[2, 6]\n",
            "[2, 6, 9]\n",
            "stack is full\n",
            "9\n",
            "[2, 6]\n",
            "6\n",
            "[2]\n",
            "2\n",
            "[]\n",
            "stack is empty\n",
            "[]\n"
          ],
          "name": "stdout"
        }
      ]
    },
    {
      "cell_type": "code",
      "metadata": {
        "id": "qWgak5YCavEd",
        "colab_type": "code",
        "colab": {}
      },
      "source": [
        ""
      ],
      "execution_count": 0,
      "outputs": []
    }
  ]
}