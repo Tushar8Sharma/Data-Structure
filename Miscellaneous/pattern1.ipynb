{
  "nbformat": 4,
  "nbformat_minor": 0,
  "metadata": {
    "colab": {
      "name": "pattern1",
      "provenance": [],
      "collapsed_sections": []
    },
    "kernelspec": {
      "name": "python3",
      "display_name": "Python 3"
    }
  },
  "cells": [
    {
      "cell_type": "code",
      "metadata": {
        "id": "vueNUIGgMQ4o",
        "colab_type": "code",
        "outputId": "c33e3e91-1f20-4bd6-933b-b79f70d2e96e",
        "colab": {
          "base_uri": "https://localhost:8080/",
          "height": 119
        }
      },
      "source": [
        "n = input('enter the number')\n",
        "n = int(n)\n",
        "for i in range(n):\n",
        "  stri=''\n",
        "  for j in range(n):\n",
        "    if j==i:\n",
        "      stri = stri + '*'\n",
        "    else:\n",
        "      stri = stri + 'o'\n",
        "  stri = stri + '*'\n",
        "  for j in range(n):\n",
        "    if j==n-i-1:\n",
        "      stri = stri + '*'\n",
        "    else:\n",
        "      stri = stri +'o'\n",
        "  print(stri)"
      ],
      "execution_count": 0,
      "outputs": [
        {
          "output_type": "stream",
          "text": [
            "enter the number5\n",
            "*oooo*oooo*\n",
            "o*ooo*ooo*o\n",
            "oo*oo*oo*oo\n",
            "ooo*o*o*ooo\n",
            "oooo***oooo\n"
          ],
          "name": "stdout"
        }
      ]
    },
    {
      "cell_type": "code",
      "metadata": {
        "id": "x0l3xXNlNLWC",
        "colab_type": "code",
        "colab": {}
      },
      "source": [
        ""
      ],
      "execution_count": 0,
      "outputs": []
    }
  ]
}