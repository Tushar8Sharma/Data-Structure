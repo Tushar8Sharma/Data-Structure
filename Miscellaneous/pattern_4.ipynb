{
  "nbformat": 4,
  "nbformat_minor": 0,
  "metadata": {
    "colab": {
      "name": "pattern 4",
      "provenance": [],
      "collapsed_sections": []
    },
    "kernelspec": {
      "name": "python3",
      "display_name": "Python 3"
    }
  },
  "cells": [
    {
      "cell_type": "code",
      "metadata": {
        "id": "OJLnVPlfHoP1",
        "colab_type": "code",
        "outputId": "d2653b65-ad1a-4f6c-f064-2e65bc6f6751",
        "colab": {
          "base_uri": "https://localhost:8080/",
          "height": 51
        }
      },
      "source": [
        "n = input('enter the number')\n",
        "n = int(n)\n",
        "arr = []\n",
        "for i in range(n):\n",
        "  x = []\n",
        "  for j in range(n):\n",
        "    x.append(0)\n",
        "  arr.append(x)\n",
        "count = 1  \n",
        "i=0\n",
        "k=1\n",
        "while count<=n:\n",
        "  j = 0\n",
        "  while j<n:\n",
        "    arr[i][j] = k\n",
        "    j += 1\n",
        "    k += 1\n",
        "  i += pow(-1,count-1)*(n - count)\n",
        "  count += 1\n",
        "print(arr)"
      ],
      "execution_count": 0,
      "outputs": [
        {
          "output_type": "stream",
          "text": [
            "enter the number6\n",
            "[[1, 2, 3, 4, 5, 6], [13, 14, 15, 16, 17, 18], [25, 26, 27, 28, 29, 30], [31, 32, 33, 34, 35, 36], [19, 20, 21, 22, 23, 24], [7, 8, 9, 10, 11, 12]]\n"
          ],
          "name": "stdout"
        }
      ]
    },
    {
      "cell_type": "code",
      "metadata": {
        "id": "AOGOr18HVflV",
        "colab_type": "code",
        "colab": {}
      },
      "source": [
        "3"
      ],
      "execution_count": 0,
      "outputs": []
    }
  ]
}