{
  "nbformat": 4,
  "nbformat_minor": 0,
  "metadata": {
    "colab": {
      "name": "pattern 3",
      "provenance": [],
      "collapsed_sections": []
    },
    "kernelspec": {
      "name": "python3",
      "display_name": "Python 3"
    }
  },
  "cells": [
    {
      "cell_type": "code",
      "metadata": {
        "id": "pV9-PfeJvcis",
        "colab_type": "code",
        "outputId": "bbad3221-7f6c-4802-a03a-179a68104868",
        "colab": {
          "base_uri": "https://localhost:8080/",
          "height": 323
        }
      },
      "source": [
        "n = input('Enter the range')\n",
        "n = int(n)\n",
        "count = 0\n",
        "k=n\n",
        "for i in range(n*2-1):\n",
        "  stri = ''\n",
        "  if i==0 or i==(n*2-2):\n",
        "    for j in range(n*2-1):\n",
        "      stri += str(n)\n",
        "    count+=1\n",
        "  else:\n",
        "    if i<n:\n",
        "      # k=n\n",
        "      x = count\n",
        "      w = 0\n",
        "      for j in range(n*2-1):\n",
        "        if j<n*2-1-count:\n",
        "          w=n-(count-x)\n",
        "          stri += str(w)\n",
        "          if x>0:\n",
        "            x -= 1\n",
        "        else:\n",
        "          x += 1\n",
        "          stri += str(w+x)\n",
        "      count += 1\n",
        "    else:\n",
        "      # print(count)\n",
        "      # k=n\n",
        "      x = count\n",
        "      w = 0\n",
        "      for j in range(n*2-1):\n",
        "        if j<n*2-count-1:\n",
        "          w=n-(count-x)\n",
        "          stri += str(w)\n",
        "          y=w\n",
        "          if x>0:\n",
        "            x -= 1\n",
        "        else:\n",
        "          if j<=k:\n",
        "            # print('k',k)\n",
        "            # print('j',j)\n",
        "            stri += str(y)\n",
        "          else:\n",
        "            # print('m')\n",
        "            y+=1\n",
        "            stri +=str(y)\n",
        "      count += 1\n",
        "      k += 1\n",
        "  print(stri)"
      ],
      "execution_count": 0,
      "outputs": [
        {
          "output_type": "stream",
          "text": [
            "Enter the range9\n",
            "99999999999999999\n",
            "98888888888888889\n",
            "98777777777777789\n",
            "98766666666666789\n",
            "98765555555556789\n",
            "98765444444456789\n",
            "98765433333456789\n",
            "98765432223456789\n",
            "98765432123456789\n",
            "98765432223456789\n",
            "98765433333456789\n",
            "98765444444456789\n",
            "98765555555556789\n",
            "98766666666666789\n",
            "98777777777777789\n",
            "98888888888888889\n",
            "99999999999999999\n"
          ],
          "name": "stdout"
        }
      ]
    },
    {
      "cell_type": "code",
      "metadata": {
        "id": "rqUwulaK6TVc",
        "colab_type": "code",
        "colab": {}
      },
      "source": [
        ""
      ],
      "execution_count": 0,
      "outputs": []
    }
  ]
}