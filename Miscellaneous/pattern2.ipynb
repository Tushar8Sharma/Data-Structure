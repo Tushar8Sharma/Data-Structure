{
  "nbformat": 4,
  "nbformat_minor": 0,
  "metadata": {
    "colab": {
      "name": "pattern2",
      "provenance": [],
      "collapsed_sections": []
    },
    "kernelspec": {
      "name": "python3",
      "display_name": "Python 3"
    }
  },
  "cells": [
    {
      "cell_type": "code",
      "metadata": {
        "id": "RfGD2QOtRBsc",
        "colab_type": "code",
        "outputId": "b638c845-fef8-48c8-e8c8-90dc0ee9dc18",
        "colab": {
          "base_uri": "https://localhost:8080/",
          "height": 119
        }
      },
      "source": [
        "n = input('enter the range')\n",
        "n = int(n)\n",
        "for i in range(int(n/2)+1):\n",
        "  stri=''\n",
        "  for j in range(i):\n",
        "    stri+=' '\n",
        "  for j in range(i+1):\n",
        "    stri += '* '\n",
        "  print(stri)\n",
        "j = int(n/2)\n",
        "for i in range(int(n/2)):\n",
        "  stri=''\n",
        "  k = j\n",
        "  while(k-1>0):\n",
        "    stri+=' '\n",
        "    k-=1\n",
        "  k = j\n",
        "  while(k>0):\n",
        "    stri+='* '\n",
        "    k-=1\n",
        "  print(stri)\n",
        "  j-=1"
      ],
      "execution_count": 0,
      "outputs": [
        {
          "output_type": "stream",
          "text": [
            "enter the range5\n",
            "* \n",
            " * * \n",
            "  * * * \n",
            " * * \n",
            "* \n"
          ],
          "name": "stdout"
        }
      ]
    },
    {
      "cell_type": "code",
      "metadata": {
        "id": "SbX69-xITAZ1",
        "colab_type": "code",
        "colab": {}
      },
      "source": [
        ""
      ],
      "execution_count": 0,
      "outputs": []
    }
  ]
}