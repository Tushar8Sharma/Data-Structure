{
  "nbformat": 4,
  "nbformat_minor": 0,
  "metadata": {
    "colab": {
      "name": "prime number",
      "provenance": [],
      "collapsed_sections": []
    },
    "kernelspec": {
      "name": "python3",
      "display_name": "Python 3"
    }
  },
  "cells": [
    {
      "cell_type": "code",
      "metadata": {
        "id": "9QG1LYHRUral",
        "colab_type": "code",
        "outputId": "b46ff9ce-e63b-4f50-e5ee-76b2858209bd",
        "colab": {
          "base_uri": "https://localhost:8080/",
          "height": 459
        }
      },
      "source": [
        "n = input('enter nth number')\n",
        "n = int(n)\n",
        "flag =0\n",
        "if n==2:\n",
        "  print(2)\n",
        "elif n==1:\n",
        "  print('not possible')\n",
        "else:\n",
        "    print(2)\n",
        "    for i in range(3,n):\n",
        "      k = int(i/2)\n",
        "      flag=0\n",
        "      for j in range(2,k+1):\n",
        "        if i%j == 0:\n",
        "          flag=1\n",
        "          break\n",
        "      if flag==0:\n",
        "        print(i)"
      ],
      "execution_count": 0,
      "outputs": [
        {
          "output_type": "stream",
          "text": [
            "enter nth number100\n",
            "2\n",
            "3\n",
            "5\n",
            "7\n",
            "11\n",
            "13\n",
            "17\n",
            "19\n",
            "23\n",
            "29\n",
            "31\n",
            "37\n",
            "41\n",
            "43\n",
            "47\n",
            "53\n",
            "59\n",
            "61\n",
            "67\n",
            "71\n",
            "73\n",
            "79\n",
            "83\n",
            "89\n",
            "97\n"
          ],
          "name": "stdout"
        }
      ]
    },
    {
      "cell_type": "code",
      "metadata": {
        "id": "KXXxEPiPVOH0",
        "colab_type": "code",
        "colab": {}
      },
      "source": [
        ""
      ],
      "execution_count": 0,
      "outputs": []
    }
  ]
}